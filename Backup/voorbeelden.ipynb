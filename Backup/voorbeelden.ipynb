{
 "cells": [
  {
   "cell_type": "markdown",
   "metadata": {},
   "source": [
    "# Voorbeelden team Euler"
   ]
  },
  {
   "cell_type": "markdown",
   "metadata": {},
   "source": [
    "Hierin komen per procedure uit `procedures.py` enkele illustratieve voorbeelden met wat toelichting. Ook procedures die nog niet werken horen hier thuis, aangezien we dan met een voorbeeld het probleem kunnen aantonen."
   ]
  },
  {
   "cell_type": "markdown",
   "metadata": {},
   "source": [
    "Per hoofding kan je een tussentitel aanmaken door in een markdown-cel `###Tussentitel` te typen. De naam van de functie kan dan tussen `` worden gezet."
   ]
  },
  {
   "cell_type": "code",
   "execution_count": 1,
   "metadata": {},
   "outputs": [],
   "source": [
    "from procedures import *\n",
    "import matplotlib.pyplot as plt"
   ]
  },
  {
   "cell_type": "markdown",
   "metadata": {},
   "source": [
    "### De procedure `xsample(n,a,b)`"
   ]
  },
  {
   "cell_type": "markdown",
   "metadata": {},
   "source": [
    "Deze functie genereert een vector (ndarray) van lengte n met uniform verdeelde getallen tussen a en b."
   ]
  },
  {
   "cell_type": "code",
   "execution_count": 2,
   "metadata": {},
   "outputs": [
    {
     "name": "stdout",
     "output_type": "stream",
     "text": [
      "[11.66093788  1.49009149  1.07316465 11.60878922 19.12911659  2.85959611\n",
      "  6.29915905  2.23647758 15.25136348 13.10481907 12.21944334 17.30671661\n",
      " 19.45031912 14.64778369  8.53504576 13.47386272  8.94346122  4.59172351\n",
      "  9.83353676  9.48839324 11.4901722  10.0267323   3.41203949  9.82987025\n",
      " 14.79578125 18.40546215 15.6464342   6.53731546 15.91932297 14.42101455]\n"
     ]
    }
   ],
   "source": [
    "# creëer een vector met 30 x-waarden tussen 0 en 20\n",
    "xVector = xsample(30,0,20)\n",
    "\n",
    "print(xVector)"
   ]
  },
  {
   "cell_type": "markdown",
   "metadata": {},
   "source": [
    "### De procedure `ysample(x,f,e)`"
   ]
  },
  {
   "cell_type": "markdown",
   "metadata": {},
   "source": [
    "Deze functie genereert een vector (ndarray) van dezelfde lengte als vector x volgens de formule `y=f(x)+r` met r normaal verdeelde getallen met gemiddelde nul en standaarddeviatie e."
   ]
  },
  {
   "cell_type": "code",
   "execution_count": 3,
   "metadata": {},
   "outputs": [
    {
     "name": "stdout",
     "output_type": "stream",
     "text": [
      "[150.86723149  35.08883668  -6.36170598 142.95475538 385.53945989\n",
      "   1.76850925  59.381983    15.69674474 260.87732242 168.00524164\n",
      " 101.34774572 282.19182271 376.60896793 180.81837876  99.15989747\n",
      " 192.22658051 110.66816704  13.52811646 107.54837373  90.57455175\n",
      " 130.11809303 171.43871314 -12.63592649  59.33618273 289.0113445\n",
      " 339.81820574 279.08244836  80.95286404 201.10093894 276.14413436]\n"
     ]
    }
   ],
   "source": [
    "# een parabolische functie ter illustratie\n",
    "# we gaan ons op deze functie baseren om de datapunten te genereren\n",
    "# vervolgens gaan we aan de functiewaarden een error-term toevoegen\n",
    "def f(x):\n",
    "    return x**2\n",
    "\n",
    "# creëer een vector met 20 y-waarden zodat bij de functiewaarden van de parabolische functie een error-term epsilon wordt toegevoegd\n",
    "# deze epsilon-term is een random getal tussen -e en e en de error-termen hebben een gemiddelde van 0\n",
    "# hoe groter de epsilon (e), hoe groter de spreidin/afwijking van de punten rond de parabool\n",
    "# de gemiddelde afstand van alle punten tot de parabool blijft echter 0\n",
    "yVector = ysample(xVector, f, e=30)\n",
    "\n",
    "print(yVector)"
   ]
  },
  {
   "cell_type": "markdown",
   "metadata": {},
   "source": [
    "### De procedure `ols(y,x)`"
   ]
  },
  {
   "cell_type": "markdown",
   "metadata": {},
   "source": [
    "Deze functie berekent de Ordinary Least Squares (OLS) regressierechte bij gegeven vectoren y en x. De functie geeft een koppel (a,b) terug zodat `y = a*x + b` de regressierechte is. Hierbij komt a overeen met β_1 en b met β_0 (zie pagina 71 van ISL, waar `y = β_1*x + β_0`)."
   ]
  },
  {
   "cell_type": "code",
   "execution_count": 4,
   "metadata": {},
   "outputs": [
    {
     "name": "stdout",
     "output_type": "stream",
     "text": [
      "20.156 is de helling van de OLS regressielijn (a = beta1)\n",
      "-64.708 is de intercept van de OLS regressielijn (b = beta0)\n",
      "\n",
      "Functievoorschrift schattingsfunctie:\t\t\t20.1555252864272*x - 64.7080866679948\n",
      "Voorspelde functiewaarde voor x=2 via OLS regressie:\t15.91401447771409\n",
      "Voorspelde functiewaarde voor x=10 via OLS regressie:\t237.62479262841342\n"
     ]
    }
   ],
   "source": [
    "# genereer een koppel (a,b)\n",
    "# dit komt eigenlijk overeen met een koppel (beta1, beta0)\n",
    "(a,b) = ols(yVector, xVector)\n",
    "\n",
    "# print de helling en de intercept op 3 decimalen nauwkeurig\n",
    "print(\"%.3f is de helling van de OLS regressielijn (a = beta1)\" % a)\n",
    "print(\"%.3f is de intercept van de OLS regressielijn (b = beta0)\" % b, end=\"\\n\\n\")\n",
    "\n",
    "# de functie f^ (f met een hoedje)\n",
    "def geschatteFunctie(x):\n",
    "    return a*x + b\n",
    "\n",
    "# druk het voorschrift van onze geschatte functie af\n",
    "import sympy as sp\n",
    "x = sp.symbols('x')\n",
    "print(f\"Functievoorschrift schattingsfunctie:\\t\\t\\t{geschatteFunctie(x)}\")\n",
    "\n",
    "# schat de functiewaarde van x=4 en x=15 op basis van onze geschatte functie\n",
    "print(f\"Voorspelde functiewaarde voor x=2 via OLS regressie:\\t{geschatteFunctie(4)}\")\n",
    "print(f\"Voorspelde functiewaarde voor x=10 via OLS regressie:\\t{geschatteFunctie(15)}\")"
   ]
  },
  {
   "cell_type": "markdown",
   "metadata": {},
   "source": [
    "### De procedure `knn(x0,y,x,k)`"
   ]
  },
  {
   "cell_type": "markdown",
   "metadata": {},
   "source": [
    "Deze functie berekent de voorspelling(en) in x0 volgens KNN-regressie bij gegeven regressor x en respons y (ndarray)."
   ]
  },
  {
   "cell_type": "code",
   "execution_count": 5,
   "metadata": {},
   "outputs": [
    {
     "name": "stdout",
     "output_type": "stream",
     "text": [
      "Voorspelde functiewaarden voor x=4 en x=10 via KNN: [  0.88689974 112.7744232 ]\n"
     ]
    }
   ],
   "source": [
    "# We voorspellen de y-waarden in de punten x=4 en x=10 op basis van de 3 dichtste buren.\n",
    "voorspeldeFunctiewaardenKnn = knn(np.array([4,10]),yVector,xVector,3)\n",
    "print(f\"Voorspelde functiewaarden voor x=4 en x=10 via KNN: {voorspeldeFunctiewaardenKnn}\")"
   ]
  },
  {
   "cell_type": "markdown",
   "metadata": {},
   "source": [
    "### Tussentijdse visualisatie"
   ]
  },
  {
   "cell_type": "markdown",
   "metadata": {},
   "source": [
    "Hieronder een visuele voorstelling van de resultaten in bovenstaande functies:"
   ]
  },
  {
   "cell_type": "code",
   "execution_count": 6,
   "metadata": {},
   "outputs": [
    {
     "data": {
      "image/png": "[encoded data removed]",
      "text/plain": [
       "<Figure size 640x480 with 1 Axes>"
      ]
     },
     "metadata": {},
     "output_type": "display_data"
    }
   ],
   "source": [
    "import numpy as np\n",
    "plt.figure()\n",
    "plt.plot(np.linspace(0, 20, 30), f(np.linspace(0, 20, 30)), color='grey', label=\"Parabolische functie\")\n",
    "plt.scatter(xVector, yVector, c='k', s=15, label=\"Gegenereerde datapunten met error-term\", zorder=3)\n",
    "plt.vlines(xVector, yVector, f(xVector), colors='black', linestyles='dashed', label=\"Error-termen van gegenereerde data\")\n",
    "plt.plot(xVector, geschatteFunctie(xVector),'r-', lw=3 ,label=\"Ordinary Least Squares schattingsfunctie\")\n",
    "plt.scatter([4,10],[geschatteFunctie(4),geschatteFunctie(10)], c='blue', label=\"OLS-voorspelling voor x=4 en x=10\", s=50,zorder=5)\n",
    "plt.scatter([4,10],voorspeldeFunctiewaardenKnn, c='green', label=\"KNN-voorspelling voor x=4 en x=10 met k=3\", s=50,zorder=5)\n",
    "plt.legend(fontsize=\"8\")\n",
    "plt.show()"
   ]
  },
  {
   "cell_type": "markdown",
   "metadata": {},
   "source": [
    "### De procedure `mls(y,X)`"
   ]
  },
  {
   "cell_type": "markdown",
   "metadata": {},
   "source": [
    "Deze functie genereert een vector beta zodat `y=X*beta` het kleinste kwadratenhypervlak is bij gegeven matrix X en responsvector Y (ndarray)."
   ]
  },
  {
   "cell_type": "markdown",
   "metadata": {},
   "source": [
    "De functie werkt nog niet helemaal goed."
   ]
  },
  {
   "cell_type": "code",
   "execution_count": 7,
   "metadata": {},
   "outputs": [
    {
     "ename": "ValueError",
     "evalue": "operands could not be broadcast together with shapes (20,2) (20,) ",
     "output_type": "error",
     "traceback": [
      "\u001b[0;31m---------------------------------------------------------------------------\u001b[0m",
      "\u001b[0;31mValueError\u001b[0m                                Traceback (most recent call last)",
      "\u001b[1;32m/Users/vincent/Library/CloudStorage/OneDrive-KULeuven/TeamE/Implementatie/voorbeelden.ipynb Cell 23\u001b[0m line \u001b[0;36m1\n\u001b[1;32m     <a href='vscode-notebook-cell:/Users/vincent/Library/CloudStorage/OneDrive-KULeuven/TeamE/Implementatie/voorbeelden.ipynb#X33sZmlsZQ%3D%3D?line=10'>11</a>\u001b[0m yVector \u001b[39m=\u001b[39m ysample(som,f)\n\u001b[1;32m     <a href='vscode-notebook-cell:/Users/vincent/Library/CloudStorage/OneDrive-KULeuven/TeamE/Implementatie/voorbeelden.ipynb#X33sZmlsZQ%3D%3D?line=11'>12</a>\u001b[0m xMatrix \u001b[39m=\u001b[39m np\u001b[39m.\u001b[39marray([xVector1,xVector2])\n\u001b[0;32m---> <a href='vscode-notebook-cell:/Users/vincent/Library/CloudStorage/OneDrive-KULeuven/TeamE/Implementatie/voorbeelden.ipynb#X33sZmlsZQ%3D%3D?line=13'>14</a>\u001b[0m beta \u001b[39m=\u001b[39m mls(yVector,xMatrix)\n\u001b[1;32m     <a href='vscode-notebook-cell:/Users/vincent/Library/CloudStorage/OneDrive-KULeuven/TeamE/Implementatie/voorbeelden.ipynb#X33sZmlsZQ%3D%3D?line=14'>15</a>\u001b[0m \u001b[39mprint\u001b[39m(beta)\n",
      "File \u001b[0;32m~/Library/CloudStorage/OneDrive-KULeuven/TeamE/Implementatie/procedures.py:184\u001b[0m, in \u001b[0;36mmls\u001b[0;34m(y, X)\u001b[0m\n\u001b[1;32m    182\u001b[0m X_TXinv \u001b[39m=\u001b[39m np\u001b[39m.\u001b[39mlinalg\u001b[39m.\u001b[39minv(np\u001b[39m.\u001b[39mdot(X_T, X))\n\u001b[1;32m    183\u001b[0m X_TXinvX_T \u001b[39m=\u001b[39m np\u001b[39m.\u001b[39mdot(X_TXinv, X_T)\n\u001b[0;32m--> 184\u001b[0m beta \u001b[39m=\u001b[39m X_TXinvX_T\u001b[39m*\u001b[39my\n\u001b[1;32m    185\u001b[0m \u001b[39mreturn\u001b[39;00m beta\n",
      "\u001b[0;31mValueError\u001b[0m: operands could not be broadcast together with shapes (20,2) (20,) "
     ]
    }
   ],
   "source": [
    "# x_i1\n",
    "xVector1 = xsample(20,0,1)\n",
    "# x_i2\n",
    "xVector2 = xsample(20,0,1)\n",
    "# x_i1 + x_i2\n",
    "som = xVector1+xVector2\n",
    "\n",
    "def f(x):\n",
    "    return x\n",
    "\n",
    "yVector = ysample(som,f)\n",
    "xMatrix = np.array([xVector1,xVector2])\n",
    "\n",
    "beta = mls(yVector,xMatrix)\n",
    "print(beta)"
   ]
  }
 ],
 "metadata": {
  "kernelspec": {
   "display_name": "base",
   "language": "python",
   "name": "python3"
  },
  "language_info": {
   "codemirror_mode": {
    "name": "ipython",
    "version": 3
   },
   "file_extension": ".py",
   "mimetype": "text/x-python",
   "name": "python",
   "nbconvert_exporter": "python",
   "pygments_lexer": "ipython3",
   "version": "3.11.4"
  }
 },
 "nbformat": 4,
 "nbformat_minor": 2
}
