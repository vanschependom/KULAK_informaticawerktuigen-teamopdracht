{
 "cells": [
  {
   "cell_type": "markdown",
   "metadata": {},
   "source": [
    "# Goedaardig vs kwaadaardige tumoren met maar 2 regressoren (inputs)"
   ]
  },
  {
   "cell_type": "markdown",
   "metadata": {},
   "source": [
    "We voorspellen of een tumor goedaardig (_benign_ of kortweg _B_) is, of de patiënt weldegelijk borstkanker heeft en de tumor dus kwaardaardig (_malignant_ of kortweg _M_) is, maar we gebruiken __maar 2 regressoren__, zodat we de data kunnen plotten."
   ]
  },
  {
   "cell_type": "code",
   "execution_count": 106,
   "metadata": {},
   "outputs": [],
   "source": [
    "from toepassing_procedures import *\n",
    "import numpy as np\n",
    "# data inladen\n",
    "import pandas as pd\n",
    "from pandas import read_csv\n",
    "# data opsplitsen in trainings-, validatie- en testset\n",
    "from sklearn.model_selection import train_test_split\n",
    "# grafieken\n",
    "from matplotlib import pyplot as plt\n",
    "# nodig voor het maken van het svm model\n",
    "from sklearn import svm\n",
    "# nodig om accuraatheid van de voorspellingen te bekijken\n",
    "from sklearn import metrics"
   ]
  },
  {
   "cell_type": "code",
   "execution_count": 107,
   "metadata": {},
   "outputs": [
    {
     "name": "stdout",
     "output_type": "stream",
     "text": [
      "Grootte training data: \t(285, 33) (50%)\n",
      "Grootte validatie data: (141, 33) (25%)\n",
      "Grootte test data: \t(143, 33) (25%)\n"
     ]
    }
   ],
   "source": [
    "# We laden de data\n",
    "gegevens = read_csv(\"data.csv\")\n",
    "\n",
    "# We genereren een random random_state\n",
    "random_state = np.random.randint(100)\n",
    "\n",
    "# We verdelen de data in 50% training, 25% validatie en 25% test\n",
    "tmp, testData = train_test_split(gegevens, test_size=0.25, random_state=random_state)\n",
    "trainingData, validatieData = train_test_split(tmp, test_size=0.33, random_state=random_state)\n",
    "\n",
    "# Print the shapes of the resulting datasets\n",
    "print(f\"Grootte training data: \\t{trainingData.shape} (50%)\")\n",
    "print(f\"Grootte validatie data: {validatieData.shape} (25%)\")\n",
    "print(f\"Grootte test data: \\t{testData.shape} (25%)\")\n"
   ]
  },
  {
   "cell_type": "code",
   "execution_count": 108,
   "metadata": {},
   "outputs": [
    {
     "name": "stdout",
     "output_type": "stream",
     "text": [
      "          id diagnosis  radius_mean  texture_mean  perimeter_mean  area_mean  \\\n",
      "110   864033         B        9.777         16.99           62.50      290.2   \n",
      "374  9013005         B       13.690         16.07           87.84      579.1   \n",
      "504   915186         B        9.268         12.87           61.49      248.7   \n",
      "560   925292         B       14.050         27.15           91.38      600.4   \n",
      "462  9113156         B       14.400         26.99           92.25      646.1   \n",
      "\n",
      "     smoothness_mean  compactness_mean  concavity_mean  concave points_mean  \\\n",
      "110          0.10370           0.08404         0.04334              0.01778   \n",
      "374          0.08302           0.06374         0.02556              0.02031   \n",
      "504          0.16340           0.22390         0.09730              0.05252   \n",
      "560          0.09929           0.11260         0.04462              0.04304   \n",
      "462          0.06995           0.05223         0.03476              0.01737   \n",
      "\n",
      "     ...  texture_worst  perimeter_worst  area_worst  smoothness_worst  \\\n",
      "110  ...          21.47            71.68       367.0            0.1467   \n",
      "374  ...          20.21            99.16       670.6            0.1105   \n",
      "504  ...          16.38            69.05       300.2            0.1902   \n",
      "560  ...          33.17           100.20       706.7            0.1241   \n",
      "462  ...          31.98           100.40       734.6            0.1017   \n",
      "\n",
      "     compactness_worst  concavity_worst  concave points_worst  symmetry_worst  \\\n",
      "110             0.1765           0.1300               0.05334          0.2533   \n",
      "374             0.2096           0.1346               0.06987          0.3323   \n",
      "504             0.3441           0.2099               0.10250          0.3038   \n",
      "560             0.2264           0.1326               0.10480          0.2250   \n",
      "462             0.1460           0.1472               0.05563          0.2345   \n",
      "\n",
      "     fractal_dimension_worst  Unnamed: 32  \n",
      "110                  0.08468          NaN  \n",
      "374                  0.07701          NaN  \n",
      "504                  0.12520          NaN  \n",
      "560                  0.08321          NaN  \n",
      "462                  0.06464          NaN  \n",
      "\n",
      "[5 rows x 33 columns]\n"
     ]
    }
   ],
   "source": [
    "print(trainingData.head())"
   ]
  },
  {
   "cell_type": "code",
   "execution_count": 109,
   "metadata": {},
   "outputs": [
    {
     "name": "stdout",
     "output_type": "stream",
     "text": [
      "B    182\n",
      "M    103\n",
      "Name: diagnosis, dtype: int64\n",
      "Er zijn 182 goedaardige tumoren en 103 kwaadaardige tumoren in de training data.\n"
     ]
    }
   ],
   "source": [
    "# We tellen het aantal diagnoses in de training data\n",
    "diagnosesTotaal = trainingData['diagnosis'].value_counts()\n",
    "\n",
    "print(diagnosesTotaal)\n",
    "\n",
    "aantalGoedaardig = diagnosesTotaal[0]\n",
    "aantalKwaadaardig = diagnosesTotaal[1]\n",
    "\n",
    "print(f\"Er zijn {aantalGoedaardig} goedaardige tumoren en {aantalKwaadaardig} kwaadaardige tumoren in de training data.\")"
   ]
  },
  {
   "cell_type": "code",
   "execution_count": 110,
   "metadata": {},
   "outputs": [],
   "source": [
    "# We selecteren de kolommen met de features (x-waarden)\n",
    "trainingFeatures = trainingData.iloc[:,2:4]\n",
    "validatieFeatures = validatieData.iloc[:,2:4]\n",
    "testFeatures = testData.iloc[:,2:4]\n",
    "\n",
    "# We selecteren de kolom met de diagnoses (y-waarden)\n",
    "trainingDiagnoses = trainingData.iloc[:,1]\n",
    "validatieDiagnoses = validatieData.iloc[:,1]\n",
    "testDiagnoses = testData.iloc[:,1]"
   ]
  },
  {
   "cell_type": "code",
   "execution_count": 144,
   "metadata": {},
   "outputs": [],
   "source": [
    "# We halen de namen op van de inputs die we onderzoeken\n",
    "input1 = trainingFeatures.columns[0]\n",
    "input2 = trainingFeatures.columns[1]"
   ]
  },
  {
   "cell_type": "code",
   "execution_count": 111,
   "metadata": {},
   "outputs": [
    {
     "name": "stdout",
     "output_type": "stream",
     "text": [
      "     radius_mean  texture_mean\n",
      "110        9.777         16.99\n",
      "374       13.690         16.07\n",
      "504        9.268         12.87\n",
      "560       14.050         27.15\n",
      "462       14.400         26.99\n",
      "..           ...           ...\n",
      "338       10.050         17.53\n",
      "380       11.270         12.96\n",
      "514       15.050         19.07\n",
      "320       10.250         16.18\n",
      "398       11.060         14.83\n",
      "\n",
      "[285 rows x 2 columns]\n"
     ]
    }
   ],
   "source": [
    "print(trainingFeatures)"
   ]
  },
  {
   "cell_type": "code",
   "execution_count": 112,
   "metadata": {},
   "outputs": [
    {
     "name": "stdout",
     "output_type": "stream",
     "text": [
      "110    B\n",
      "374    B\n",
      "504    B\n",
      "560    B\n",
      "462    B\n",
      "      ..\n",
      "338    B\n",
      "380    B\n",
      "514    M\n",
      "320    B\n",
      "398    B\n",
      "Name: diagnosis, Length: 285, dtype: object\n"
     ]
    }
   ],
   "source": [
    "print(trainingDiagnoses)"
   ]
  },
  {
   "cell_type": "code",
   "execution_count": 113,
   "metadata": {},
   "outputs": [
    {
     "name": "stdout",
     "output_type": "stream",
     "text": [
      "[[ 9.777 16.99 ]\n",
      " [13.69  16.07 ]\n",
      " [ 9.268 12.87 ]\n",
      " [14.05  27.15 ]\n",
      " [14.4   26.99 ]\n",
      " [10.32  16.35 ]\n",
      " [13.64  15.6  ]\n",
      " [11.99  24.89 ]\n",
      " [20.16  19.66 ]\n",
      " [24.25  20.2  ]\n",
      " [12.9   15.92 ]\n",
      " [17.54  19.32 ]\n",
      " [12.05  14.63 ]\n",
      " [23.51  24.27 ]\n",
      " [13.27  14.76 ]\n",
      " [14.9   22.53 ]\n",
      " [12.89  14.11 ]\n",
      " [12.25  17.94 ]\n",
      " [15.    15.51 ]\n",
      " [18.22  18.87 ]\n",
      " [14.04  15.98 ]\n",
      " [14.53  19.34 ]\n",
      " [11.29  13.04 ]\n",
      " [11.25  14.78 ]\n",
      " [13.86  16.93 ]\n",
      " [11.31  19.04 ]\n",
      " [25.22  24.91 ]\n",
      " [ 9.847 15.68 ]\n",
      " [12.05  22.72 ]\n",
      " [14.96  19.1  ]\n",
      " [13.5   12.71 ]\n",
      " [10.44  15.46 ]\n",
      " [15.12  16.68 ]\n",
      " [17.14  16.4  ]\n",
      " [12.83  22.33 ]\n",
      " [14.26  19.65 ]\n",
      " [20.57  17.77 ]\n",
      " [ 9.    14.4  ]\n",
      " [11.47  16.03 ]\n",
      " [14.58  13.66 ]\n",
      " [ 9.738 11.97 ]\n",
      " [19.8   21.56 ]\n",
      " [14.68  20.13 ]\n",
      " [17.19  22.07 ]\n",
      " [12.76  18.84 ]\n",
      " [15.7   20.31 ]\n",
      " [13.74  17.91 ]\n",
      " [ 8.618 11.79 ]\n",
      " [ 8.95  15.76 ]\n",
      " [13.66  15.15 ]\n",
      " [12.45  16.41 ]\n",
      " [16.11  18.05 ]\n",
      " [17.99  10.38 ]\n",
      " [ 9.742 19.12 ]\n",
      " [14.6   23.29 ]\n",
      " [20.18  23.97 ]\n",
      " [12.34  26.86 ]\n",
      " [ 9.333 21.94 ]\n",
      " [10.26  12.22 ]\n",
      " [12.    15.65 ]\n",
      " [13.15  15.34 ]\n",
      " [12.32  12.39 ]\n",
      " [10.91  12.35 ]\n",
      " [13.27  17.02 ]\n",
      " [12.18  20.52 ]\n",
      " [13.05  18.59 ]\n",
      " [15.1   22.02 ]\n",
      " [18.45  21.91 ]\n",
      " [11.04  16.83 ]\n",
      " [ 9.755 28.2  ]\n",
      " [11.52  18.75 ]\n",
      " [12.39  17.48 ]\n",
      " [11.8   16.58 ]\n",
      " [12.67  17.3  ]\n",
      " [21.16  23.04 ]\n",
      " [14.92  14.93 ]\n",
      " [13.21  28.06 ]\n",
      " [16.26  21.88 ]\n",
      " [13.    21.82 ]\n",
      " [19.89  20.26 ]\n",
      " [19.59  18.15 ]\n",
      " [18.01  20.56 ]\n",
      " [ 9.742 15.67 ]\n",
      " [15.71  13.93 ]\n",
      " [11.3   18.19 ]\n",
      " [13.66  19.13 ]\n",
      " [12.49  16.85 ]\n",
      " [19.21  18.57 ]\n",
      " [14.59  22.68 ]\n",
      " [12.72  17.67 ]\n",
      " [14.27  22.55 ]\n",
      " [20.48  21.46 ]\n",
      " [20.51  27.81 ]\n",
      " [23.21  26.97 ]\n",
      " [15.73  11.28 ]\n",
      " [14.71  21.59 ]\n",
      " [10.95  21.35 ]\n",
      " [18.22  18.7  ]\n",
      " [13.7   17.64 ]\n",
      " [17.93  24.48 ]\n",
      " [10.94  18.59 ]\n",
      " [16.3   15.7  ]\n",
      " [14.86  16.94 ]\n",
      " [17.29  22.13 ]\n",
      " [19.07  24.81 ]\n",
      " [13.46  18.75 ]\n",
      " [13.51  18.89 ]\n",
      " [19.73  19.82 ]\n",
      " [15.5   21.08 ]\n",
      " [17.35  23.06 ]\n",
      " [16.02  23.24 ]\n",
      " [11.04  14.93 ]\n",
      " [12.88  18.22 ]\n",
      " [12.62  17.15 ]\n",
      " [17.95  20.01 ]\n",
      " [10.26  16.58 ]\n",
      " [19.53  32.47 ]\n",
      " [16.35  23.29 ]\n",
      " [13.34  15.86 ]\n",
      " [12.18  14.08 ]\n",
      " [ 7.691 25.44 ]\n",
      " [10.17  14.88 ]\n",
      " [18.31  20.58 ]\n",
      " [ 8.878 15.49 ]\n",
      " [15.1   16.39 ]\n",
      " [22.27  19.67 ]\n",
      " [12.34  14.95 ]\n",
      " [16.65  21.38 ]\n",
      " [19.27  26.47 ]\n",
      " [ 9.405 21.7  ]\n",
      " [19.68  21.68 ]\n",
      " [10.86  21.48 ]\n",
      " [13.28  20.28 ]\n",
      " [12.76  13.37 ]\n",
      " [12.34  22.22 ]\n",
      " [12.07  13.44 ]\n",
      " [18.77  21.43 ]\n",
      " [ 7.76  24.54 ]\n",
      " [ 8.671 14.45 ]\n",
      " [12.83  15.73 ]\n",
      " [11.46  18.16 ]\n",
      " [16.17  16.07 ]\n",
      " [10.88  15.62 ]\n",
      " [11.16  21.41 ]\n",
      " [20.73  31.12 ]\n",
      " [14.95  17.57 ]\n",
      " [14.02  15.66 ]\n",
      " [ 8.726 15.83 ]\n",
      " [ 9.504 12.44 ]\n",
      " [19.59  25.   ]\n",
      " [13.17  18.22 ]\n",
      " [10.82  24.21 ]\n",
      " [13.38  30.72 ]\n",
      " [12.18  17.84 ]\n",
      " [14.45  20.22 ]\n",
      " [13.17  18.66 ]\n",
      " [13.    20.78 ]\n",
      " [11.62  18.18 ]\n",
      " [12.3   19.02 ]\n",
      " [21.71  17.25 ]\n",
      " [12.21  14.09 ]\n",
      " [19.    18.91 ]\n",
      " [16.27  20.71 ]\n",
      " [11.52  14.93 ]\n",
      " [ 9.876 19.4  ]\n",
      " [19.4   23.5  ]\n",
      " [13.2   17.43 ]\n",
      " [16.5   18.29 ]\n",
      " [13.53  10.94 ]\n",
      " [ 8.597 18.6  ]\n",
      " [16.13  20.68 ]\n",
      " [15.85  23.95 ]\n",
      " [10.2   17.48 ]\n",
      " [10.26  14.71 ]\n",
      " [12.06  18.9  ]\n",
      " [13.3   21.57 ]\n",
      " [20.55  20.86 ]\n",
      " [11.8   17.26 ]\n",
      " [ 9.295 13.9  ]\n",
      " [22.01  21.9  ]\n",
      " [11.84  18.7  ]\n",
      " [13.46  28.21 ]\n",
      " [13.78  15.79 ]\n",
      " [14.61  15.69 ]\n",
      " [14.78  23.94 ]\n",
      " [11.84  18.94 ]\n",
      " [ 6.981 13.43 ]\n",
      " [16.14  14.86 ]\n",
      " [12.68  23.84 ]\n",
      " [14.47  24.99 ]\n",
      " [11.26  19.83 ]\n",
      " [14.74  25.42 ]\n",
      " [15.37  22.76 ]\n",
      " [12.58  18.4  ]\n",
      " [16.84  19.46 ]\n",
      " [19.4   18.18 ]\n",
      " [14.8   17.66 ]\n",
      " [14.69  13.98 ]\n",
      " [10.49  18.61 ]\n",
      " [12.77  21.41 ]\n",
      " [14.48  21.46 ]\n",
      " [12.25  22.44 ]\n",
      " [10.18  17.53 ]\n",
      " [ 9.423 27.88 ]\n",
      " [14.62  24.02 ]\n",
      " [13.44  21.58 ]\n",
      " [12.78  16.49 ]\n",
      " [14.87  20.21 ]\n",
      " [18.03  16.85 ]\n",
      " [12.47  17.31 ]\n",
      " [17.2   24.52 ]\n",
      " [10.03  21.28 ]\n",
      " [11.75  20.18 ]\n",
      " [14.95  18.77 ]\n",
      " [14.81  14.7  ]\n",
      " [13.54  14.36 ]\n",
      " [13.98  19.62 ]\n",
      " [13.87  20.7  ]\n",
      " [13.88  16.16 ]\n",
      " [12.56  19.07 ]\n",
      " [14.97  19.76 ]\n",
      " [10.97  17.2  ]\n",
      " [12.54  18.07 ]\n",
      " [20.31  27.06 ]\n",
      " [12.87  16.21 ]\n",
      " [13.64  16.34 ]\n",
      " [12.04  28.14 ]\n",
      " [11.51  23.93 ]\n",
      " [11.76  21.6  ]\n",
      " [13.4   20.52 ]\n",
      " [14.5   10.89 ]\n",
      " [15.61  19.38 ]\n",
      " [12.91  16.33 ]\n",
      " [15.75  19.22 ]\n",
      " [13.59  21.84 ]\n",
      " [ 8.734 16.84 ]\n",
      " [16.25  19.51 ]\n",
      " [15.3   25.27 ]\n",
      " [11.66  17.07 ]\n",
      " [12.21  18.02 ]\n",
      " [12.23  19.56 ]\n",
      " [18.63  25.11 ]\n",
      " [11.08  18.83 ]\n",
      " [20.13  28.25 ]\n",
      " [13.87  16.21 ]\n",
      " [11.87  21.54 ]\n",
      " [18.05  16.15 ]\n",
      " [17.01  20.26 ]\n",
      " [11.22  33.81 ]\n",
      " [14.11  12.88 ]\n",
      " [13.96  17.05 ]\n",
      " [19.69  21.25 ]\n",
      " [20.59  21.24 ]\n",
      " [17.3   17.08 ]\n",
      " [13.08  15.71 ]\n",
      " [12.63  20.76 ]\n",
      " [ 8.598 20.98 ]\n",
      " [11.57  19.04 ]\n",
      " [11.49  14.59 ]\n",
      " [11.13  22.44 ]\n",
      " [17.27  25.42 ]\n",
      " [14.03  21.25 ]\n",
      " [10.48  14.98 ]\n",
      " [ 9.667 18.49 ]\n",
      " [11.36  17.57 ]\n",
      " [20.2   26.83 ]\n",
      " [15.49  19.97 ]\n",
      " [10.29  27.61 ]\n",
      " [21.09  26.57 ]\n",
      " [17.47  24.68 ]\n",
      " [11.06  17.12 ]\n",
      " [13.8   15.79 ]\n",
      " [12.43  17.   ]\n",
      " [10.8    9.71 ]\n",
      " [17.46  39.28 ]\n",
      " [12.86  13.32 ]\n",
      " [13.77  22.29 ]\n",
      " [15.66  23.2  ]\n",
      " [13.85  19.6  ]\n",
      " [12.3   15.9  ]\n",
      " [10.05  17.53 ]\n",
      " [11.27  12.96 ]\n",
      " [15.05  19.07 ]\n",
      " [10.25  16.18 ]\n",
      " [11.06  14.83 ]]\n"
     ]
    }
   ],
   "source": [
    "# we halen de waardes van de feautures op\n",
    "trainingX = trainingFeatures.values\n",
    "validatieX = validatieFeatures.values\n",
    "testX = testFeatures.values\n",
    "\n",
    "print(trainingX)"
   ]
  },
  {
   "cell_type": "code",
   "execution_count": 114,
   "metadata": {},
   "outputs": [
    {
     "name": "stdout",
     "output_type": "stream",
     "text": [
      "['B' 'B' 'B' 'B' 'B' 'B' 'B' 'B' 'M' 'M' 'B' 'M' 'B' 'M' 'B' 'M' 'B' 'B'\n",
      " 'B' 'M' 'B' 'B' 'B' 'B' 'M' 'B' 'M' 'B' 'B' 'B' 'B' 'B' 'M' 'M' 'M' 'B'\n",
      " 'M' 'B' 'B' 'B' 'B' 'M' 'M' 'M' 'B' 'M' 'B' 'B' 'B' 'B' 'B' 'M' 'M' 'B'\n",
      " 'M' 'M' 'M' 'B' 'B' 'B' 'B' 'B' 'B' 'B' 'B' 'B' 'M' 'M' 'B' 'B' 'B' 'B'\n",
      " 'M' 'B' 'M' 'B' 'B' 'M' 'M' 'M' 'M' 'M' 'B' 'B' 'B' 'B' 'B' 'M' 'B' 'B'\n",
      " 'M' 'M' 'M' 'M' 'B' 'M' 'M' 'M' 'B' 'M' 'B' 'B' 'B' 'M' 'M' 'B' 'B' 'M'\n",
      " 'M' 'M' 'M' 'B' 'B' 'B' 'M' 'B' 'M' 'M' 'B' 'B' 'B' 'B' 'M' 'B' 'B' 'M'\n",
      " 'B' 'M' 'M' 'B' 'M' 'B' 'M' 'B' 'B' 'B' 'M' 'B' 'B' 'B' 'B' 'B' 'B' 'B'\n",
      " 'M' 'M' 'B' 'B' 'B' 'M' 'B' 'B' 'B' 'B' 'M' 'M' 'B' 'B' 'B' 'M' 'B' 'M'\n",
      " 'M' 'B' 'B' 'M' 'B' 'B' 'B' 'B' 'M' 'M' 'B' 'B' 'B' 'B' 'M' 'B' 'B' 'M'\n",
      " 'M' 'B' 'B' 'B' 'M' 'B' 'B' 'B' 'M' 'B' 'B' 'B' 'M' 'B' 'B' 'M' 'B' 'B'\n",
      " 'B' 'B' 'M' 'B' 'B' 'B' 'B' 'M' 'B' 'B' 'M' 'B' 'M' 'B' 'B' 'B' 'B' 'B'\n",
      " 'M' 'B' 'B' 'B' 'B' 'B' 'B' 'M' 'B' 'B' 'B' 'B' 'B' 'M' 'B' 'M' 'B' 'M'\n",
      " 'B' 'B' 'M' 'M' 'B' 'B' 'B' 'M' 'M' 'M' 'B' 'B' 'M' 'M' 'B' 'B' 'M' 'M'\n",
      " 'M' 'M' 'B' 'B' 'B' 'B' 'B' 'B' 'M' 'B' 'B' 'B' 'B' 'M' 'M' 'B' 'M' 'M'\n",
      " 'B' 'M' 'B' 'B' 'M' 'B' 'M' 'M' 'B' 'B' 'B' 'B' 'M' 'B' 'B']\n"
     ]
    }
   ],
   "source": [
    "# we halen de waardes van de diagnoses op\n",
    "trainingY = trainingDiagnoses.values\n",
    "validatieY = validatieDiagnoses.values\n",
    "testY = testDiagnoses.values\n",
    "\n",
    "print(trainingY)"
   ]
  },
  {
   "cell_type": "code",
   "execution_count": 115,
   "metadata": {},
   "outputs": [
    {
     "name": "stdout",
     "output_type": "stream",
     "text": [
      "['M' 'B' 'M' 'M' 'M' 'B' 'B' 'B' 'B' 'B' 'M' 'B' 'B' 'B' 'M' 'M' 'M' 'M'\n",
      " 'B' 'B' 'M' 'B' 'B' 'B' 'B' 'B' 'B' 'M' 'M' 'B' 'B' 'B' 'B' 'B' 'B' 'M'\n",
      " 'B' 'B' 'B' 'B' 'M' 'M' 'M' 'M' 'B' 'B' 'B' 'M' 'B' 'B' 'B' 'B' 'M' 'B'\n",
      " 'B' 'M' 'M' 'M' 'B' 'B' 'B' 'B' 'B' 'M' 'B' 'M' 'B' 'B' 'M' 'B' 'B' 'B'\n",
      " 'M' 'B' 'B' 'B' 'B' 'B' 'B' 'B' 'B' 'B' 'B' 'B' 'B' 'M' 'B' 'B' 'B' 'B'\n",
      " 'B' 'M' 'B' 'B' 'M' 'B' 'M' 'B' 'M' 'B' 'B' 'B' 'B' 'M' 'M' 'M' 'B' 'B'\n",
      " 'B' 'M' 'M' 'B' 'B' 'B' 'B' 'B' 'B' 'B' 'B' 'B' 'B' 'M' 'B' 'B' 'M' 'B'\n",
      " 'B' 'M' 'M' 'B' 'M' 'B' 'M' 'M' 'M' 'B' 'B' 'B' 'B' 'B' 'M']\n"
     ]
    }
   ],
   "source": [
    "# Dit is de classifier of classificator\n",
    "# We gebruiken de kernel trick om de data te kunnen scheiden\n",
    "# In dit geval gebruiken we een lineaire kernel\n",
    "clf = svm.SVC(kernel='linear')\n",
    "\n",
    "# We trainen de classifier met de training data\n",
    "clf.fit(trainingX,trainingY)\n",
    "\n",
    "# We voorspellen de diagnoses van de validatie data\n",
    "validatieVoorspellingen = clf.predict(validatieX)\n",
    "\n",
    "print(validatieVoorspellingen)"
   ]
  },
  {
   "cell_type": "code",
   "execution_count": 116,
   "metadata": {},
   "outputs": [
    {
     "name": "stdout",
     "output_type": "stream",
     "text": [
      "De accuraatheid van de voorspellingen is 93.62%\n"
     ]
    }
   ],
   "source": [
    "# we berekenen de accuraatheid van de voorspellingen\n",
    "accuraatheid = metrics.accuracy_score(validatieY, validatieVoorspellingen)\n",
    "print(f\"De accuraatheid van de voorspellingen is {accuraatheid*100:.2f}%\")"
   ]
  },
  {
   "cell_type": "markdown",
   "metadata": {},
   "source": [
    "### Validatiegegevens gebruiken om de 3 meta-parameters te bepalen."
   ]
  },
  {
   "cell_type": "markdown",
   "metadata": {},
   "source": [
    "#### C-term<br>\n",
    "De C-term staat voor de __foutentoleratie__ van het model.<br><br>\n",
    "*Kleine waarden voor C:* <br>\n",
    "Wanneer C klein is, laat het model meer fouten toe, waardoor de beslissingsgrens eenvoudiger wordt.<br><br>\n",
    "*Grote waarden voor C:* <br>\n",
    "Wanneer C groot is, laat het model een laag aantal fouten toe, waardoor de beslissingsgrens complexer wordt.<br>"
   ]
  },
  {
   "cell_type": "code",
   "execution_count": 117,
   "metadata": {},
   "outputs": [
    {
     "name": "stdout",
     "output_type": "stream",
     "text": [
      "De accuraatheid van de voorspellingen op de validatiedata is 93.61702% met C=1\n",
      "De accuraatheid van de voorspellingen op de validatiedata is 93.61702% met C=2\n",
      "De accuraatheid van de voorspellingen op de validatiedata is 93.61702% met C=3\n",
      "De accuraatheid van de voorspellingen op de validatiedata is 93.61702% met C=4\n",
      "De accuraatheid van de voorspellingen op de validatiedata is 93.61702% met C=5\n",
      "De accuraatheid van de voorspellingen op de validatiedata is 93.61702% met C=6\n",
      "De accuraatheid van de voorspellingen op de validatiedata is 93.61702% met C=7\n",
      "De accuraatheid van de voorspellingen op de validatiedata is 93.61702% met C=8\n",
      "De accuraatheid van de voorspellingen op de validatiedata is 93.61702% met C=9\n",
      "\n",
      "De optimale waarde voor C is 1 met een accuraatheid van 93.62%\n"
     ]
    }
   ],
   "source": [
    "# De C-term is een metaparameter en staat voor de foutentoleratie van het model.\n",
    "mogelijkeCs = [c for c in range(1, 10)]\n",
    "\n",
    "hoogsteAccuraatheid = 0\n",
    "cOpt = 0\n",
    "\n",
    "# Overloop verschillende waarden voor C\n",
    "for C in mogelijkeCs:\n",
    "\n",
    "    clf = svm.SVC(kernel='linear', C=C)\n",
    "    clf.fit(trainingX, trainingY)\n",
    "    validatieVoorspellingen = clf.predict(validatieX)\n",
    "    accuraatheid = metrics.accuracy_score(validatieY, validatieVoorspellingen)\n",
    "\n",
    "    print(f\"De accuraatheid van de voorspellingen op de validatiedata is {accuraatheid*100:.5f}% met C={C}\")\n",
    "\n",
    "    if accuraatheid > hoogsteAccuraatheid:\n",
    "        hoogsteAccuraatheid = accuraatheid\n",
    "        cOpt = C\n",
    "\n",
    "print(f\"\\nDe optimale waarde voor C is {cOpt} met een accuraatheid van {hoogsteAccuraatheid*100:.2f}%\")"
   ]
  },
  {
   "cell_type": "markdown",
   "metadata": {},
   "source": [
    "#### Kernel<br>\n",
    "De kernel zegt het model welke 'trick' het het moet gebruiken om de data te scheiden."
   ]
  },
  {
   "cell_type": "code",
   "execution_count": 118,
   "metadata": {},
   "outputs": [
    {
     "name": "stdout",
     "output_type": "stream",
     "text": [
      "De accuraatheid van de voorspellingen op de validatiedata is 93.61702% met de kernel 'linear' en C=1\n",
      "De accuraatheid van de voorspellingen op de validatiedata is 91.48936% met de kernel 'poly' en C=1\n",
      "De accuraatheid van de voorspellingen op de validatiedata is 90.78014% met de kernel 'rbf' en C=1\n",
      "De accuraatheid van de voorspellingen op de validatiedata is 61.70213% met de kernel 'sigmoid' en C=1\n",
      "\n",
      "De optimale kernel is 'linear' met een accuraatheid van 93.62% voor C=1\n"
     ]
    }
   ],
   "source": [
    "# De kernel zegt het model welke 'trick' het het moet gebruiken om de data te scheiden.\n",
    "mogelijkeKernels = ['linear', 'poly', 'rbf', 'sigmoid']\n",
    "\n",
    "optKernel = \"\"\n",
    "hoogsteAccuraatheid = 0\n",
    "\n",
    "for kernel in mogelijkeKernels:\n",
    "\n",
    "    clf = svm.SVC(kernel=kernel, C=cOpt)\n",
    "    clf.fit(trainingX, trainingY)\n",
    "    validatieVoorspellingen = clf.predict(validatieX)\n",
    "    accuraatheid = metrics.accuracy_score(validatieY, validatieVoorspellingen)\n",
    "\n",
    "    print(f\"De accuraatheid van de voorspellingen op de validatiedata is {accuraatheid*100:.5f}% met de kernel '{kernel}' en C={cOpt}\")\n",
    "\n",
    "    if accuraatheid > hoogsteAccuraatheid:\n",
    "        hoogsteAccuraatheid = accuraatheid\n",
    "        optKernel = kernel\n",
    "\n",
    "print(f\"\\nDe optimale kernel is '{optKernel}' met een accuraatheid van {hoogsteAccuraatheid*100:.2f}% voor C={cOpt}\")"
   ]
  },
  {
   "cell_type": "markdown",
   "metadata": {},
   "source": [
    "#### Gamma<br>\n",
    "De $\\gamma$ staat voor de __foutentoleratie__ van het model.<br><br>\n",
    "*Kleine waarden voor $\\gamma$:* <br>\n",
    "Een te lage gamma-waarde kan leiden tot _overgeneralisatie_, waarbij de beslissingsgrens te eenvoudig is en het model niet goed presteert op de trainingsgegevens.<br><br>\n",
    "*Grote waarden voor $\\gamma$:* <br>\n",
    "Een te hoge gamma-waarde kan leiden tot _overfitting_, waarbij het model de trainingsgegevens te nauw volgt en dus niet goed zal presteren op nog niet eerder geziene gegevens.<br>"
   ]
  },
  {
   "cell_type": "code",
   "execution_count": 119,
   "metadata": {},
   "outputs": [
    {
     "name": "stdout",
     "output_type": "stream",
     "text": [
      "De accuraatheid van de voorspellingen op de validatiedata is 93.61702% met gamma=1, de kernel 'linear' en C=1\n",
      "De accuraatheid van de voorspellingen op de validatiedata is 93.61702% met gamma=2, de kernel 'linear' en C=1\n",
      "De accuraatheid van de voorspellingen op de validatiedata is 93.61702% met gamma=3, de kernel 'linear' en C=1\n",
      "De accuraatheid van de voorspellingen op de validatiedata is 93.61702% met gamma=4, de kernel 'linear' en C=1\n",
      "De accuraatheid van de voorspellingen op de validatiedata is 93.61702% met gamma=5, de kernel 'linear' en C=1\n",
      "De accuraatheid van de voorspellingen op de validatiedata is 93.61702% met gamma=6, de kernel 'linear' en C=1\n",
      "De accuraatheid van de voorspellingen op de validatiedata is 93.61702% met gamma=7, de kernel 'linear' en C=1\n",
      "De accuraatheid van de voorspellingen op de validatiedata is 93.61702% met gamma=8, de kernel 'linear' en C=1\n",
      "De accuraatheid van de voorspellingen op de validatiedata is 93.61702% met gamma=9, de kernel 'linear' en C=1\n",
      "\n",
      "De optimale waarde voor gamma is 1 met een accuraatheid van 93.62% voor de kernel 'linear' en C=1\n"
     ]
    }
   ],
   "source": [
    "# De C-term is een metaparameter en staat voor de foutentoleratie van het model.\n",
    "mogelijkeGammas = [gamma for gamma in range(1, 10)]\n",
    "\n",
    "hoogsteAccuraatheid = 0\n",
    "gammaOpt = 0\n",
    "\n",
    "# Overloop verschillende waarden voor C\n",
    "for gamma in mogelijkeGammas:\n",
    "\n",
    "    clf = svm.SVC(kernel=optKernel, C=cOpt, gamma=gamma)\n",
    "    clf.fit(trainingX, trainingY)\n",
    "    validatieVoorspellingen = clf.predict(validatieX)\n",
    "    accuraatheid = metrics.accuracy_score(validatieY, validatieVoorspellingen)\n",
    "\n",
    "    print(f\"De accuraatheid van de voorspellingen op de validatiedata is {accuraatheid*100:.5f}% met gamma={gamma}, de kernel '{optKernel}' en C={cOpt}\")\n",
    "\n",
    "    if accuraatheid > hoogsteAccuraatheid:\n",
    "        hoogsteAccuraatheid = accuraatheid\n",
    "        gammaOpt = gamma\n",
    "\n",
    "print(f\"\\nDe optimale waarde voor gamma is {gammaOpt} met een accuraatheid van {hoogsteAccuraatheid*100:.2f}% voor de kernel '{optKernel}' en C={cOpt}\")"
   ]
  },
  {
   "cell_type": "markdown",
   "metadata": {},
   "source": [
    "### Toepassen op de testdata"
   ]
  },
  {
   "cell_type": "code",
   "execution_count": 136,
   "metadata": {},
   "outputs": [
    {
     "name": "stdout",
     "output_type": "stream",
     "text": [
      "De accuraatheid van de voorspellingen op de testdata is 87.41% voor de kernel 'linear', C=1 en gamma=1\n"
     ]
    }
   ],
   "source": [
    "clf = svm.SVC(kernel=optKernel, C=cOpt, gamma=gammaOpt)\n",
    "clf.fit(trainingX, trainingY)\n",
    "testVoorspellingen = clf.predict(testX)\n",
    "accuraatheid = metrics.accuracy_score(testY, testVoorspellingen)\n",
    "\n",
    "print(f\"De accuraatheid van de voorspellingen op de testdata is {accuraatheid*100:.2f}% voor de kernel '{optKernel}', C={cOpt} en gamma={gammaOpt}\")"
   ]
  },
  {
   "cell_type": "markdown",
   "metadata": {},
   "source": [
    "### Visuele voorstelling"
   ]
  },
  {
   "cell_type": "code",
   "execution_count": 151,
   "metadata": {},
   "outputs": [
    {
     "data": {
      "image/png": "[encoded data removed]",
      "text/plain": [
       "<Figure size 1000x700 with 1 Axes>"
      ]
     },
     "metadata": {},
     "output_type": "display_data"
    }
   ],
   "source": [
    "import matplotlib.pyplot as plt\n",
    "\n",
    "# Punten die geclassificeerd worden als goedaardig maar kwaadaardig zijn\n",
    "falsePositives = np.where((testVoorspellingen == 'B') & (testY == 'M'))\n",
    "# Punten die geclassificeerd worden als goedaardig en ook goedaardig zijn\n",
    "truePositives = np.where((testVoorspellingen == 'B') & (testY == 'B'))\n",
    "# Punten die geclassificeerd worden als kwaadaardig maar goedaardig zijn\n",
    "falseNegatives = np.where((testVoorspellingen == 'M') & (testY == 'B'))\n",
    "# Punten die geclassificeerd worden als kwaadaardig en ook kwaadaardig zijn\n",
    "trueNegatives = np.where((testVoorspellingen == 'M') & (testY == 'M'))\n",
    "\n",
    "plt.figure(figsize=(10, 7))\n",
    "plt.suptitle(f\"SVM classificatie (kernel: {optKernel}, C={cOpt}, gamma={gammaOpt}), toegepast op een test-dataset tumoren.\\nDe accuraatheid van het model t.o.v. de test-data is {accuraatheid*100:.2f}%.\")\n",
    "plt.scatter(testX[trueNegatives, 0], testX[trueNegatives, 1], c='r', marker='o', label='Kwaadaardig geclassificeerd als \"kwaadaardig\"')\n",
    "plt.scatter(testX[falsePositives, 0], testX[falsePositives, 1], c='r', marker='x', label='Goedaardig geclassificeerd als \"kwaadaardig\"')\n",
    "plt.scatter(testX[truePositives, 0], testX[truePositives, 1], c='g', marker='o', label='Goedaardig geclassificeerd als \"goedaardig\"')\n",
    "plt.scatter(testX[falseNegatives, 0], testX[falseNegatives, 1], c='g', marker='x', label='Kwaadaardig geclassificeerd als \"goedaardig\"')\n",
    "\n",
    "# Beslissingslijn plotten\n",
    "ax = plt.gca()\n",
    "xlim = ax.get_xlim()\n",
    "ylim = ax.get_ylim()\n",
    "xx, yy = np.meshgrid(np.linspace(xlim[0], xlim[1], 100), np.linspace(ylim[0], ylim[1], 100))\n",
    "Z = clf.decision_function(np.c_[xx.ravel(), yy.ravel()])\n",
    "Z = Z.reshape(xx.shape)\n",
    "plt.contour(xx, yy, Z, colors='k', levels=[-1, 0, 1], alpha=0.5, linestyles=['--', '-', '--'])\n",
    "\n",
    "plt.xlabel(input1)\n",
    "plt.ylabel(input2)\n",
    "plt.legend()\n",
    "plt.savefig('svm-classificatie-2-inputs.pdf')\n",
    "plt.show()"
   ]
  },
  {
   "cell_type": "markdown",
   "metadata": {},
   "source": []
  }
 ],
 "metadata": {
  "kernelspec": {
   "display_name": "base",
   "language": "python",
   "name": "python3"
  },
  "language_info": {
   "codemirror_mode": {
    "name": "ipython",
    "version": 3
   },
   "file_extension": ".py",
   "mimetype": "text/x-python",
   "name": "python",
   "nbconvert_exporter": "python",
   "pygments_lexer": "ipython3",
   "version": "3.11.4"
  }
 },
 "nbformat": 4,
 "nbformat_minor": 2
}
