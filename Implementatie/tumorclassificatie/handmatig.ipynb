{
 "cells": [
  {
   "cell_type": "code",
   "execution_count": 41,
   "metadata": {},
   "outputs": [],
   "source": [
    "import numpy as np\n",
    "from pandas import read_csv"
   ]
  },
  {
   "cell_type": "code",
   "execution_count": 42,
   "metadata": {},
   "outputs": [],
   "source": [
    "# We laden de data\n",
    "gegevens = read_csv(\"data.csv\").sample(n=30)\n",
    "\n",
    "rand = np.random.randint(0, 28)\n",
    "\n",
    "# We selecteren de kolommen met de features (x-waarden)\n",
    "trainingFeatures = gegevens.iloc[:, 2:4]\n",
    "# We selecteren de kolom met de diagnoses (y-waarden)\n",
    "trainingDiagnoses = gegevens.iloc[:, 1]\n",
    "\n",
    "trainingX = trainingFeatures.values\n",
    "trainingY = [1 if diagnose == \"M\" else 0 for diagnose in trainingDiagnoses.values]"
   ]
  },
  {
   "cell_type": "code",
   "execution_count": 43,
   "metadata": {},
   "outputs": [
    {
     "name": "stdout",
     "output_type": "stream",
     "text": [
      "[[ 1.     9.72  18.22 ]\n",
      " [ 1.    14.22  23.12 ]\n",
      " [ 1.    11.5   18.45 ]\n",
      " [ 1.    15.66  23.2  ]\n",
      " [ 1.    13.43  19.63 ]\n",
      " [ 1.    16.6   28.08 ]\n",
      " [ 1.    11.26  19.83 ]\n",
      " [ 1.    10.49  19.29 ]\n",
      " [ 1.    12.23  19.56 ]\n",
      " [ 1.    17.19  22.07 ]\n",
      " [ 1.    13.85  19.6  ]\n",
      " [ 1.    16.27  20.71 ]\n",
      " [ 1.    19.27  26.47 ]\n",
      " [ 1.    21.61  22.28 ]\n",
      " [ 1.    12.16  18.03 ]\n",
      " [ 1.    10.26  12.22 ]\n",
      " [ 1.    19.79  25.12 ]\n",
      " [ 1.    23.27  22.04 ]\n",
      " [ 1.    12.2   15.21 ]\n",
      " [ 1.    10.48  14.98 ]\n",
      " [ 1.    11.93  10.91 ]\n",
      " [ 1.    12.27  29.97 ]\n",
      " [ 1.    15.34  14.26 ]\n",
      " [ 1.    13.9   19.24 ]\n",
      " [ 1.    15.75  20.25 ]\n",
      " [ 1.    14.69  13.98 ]\n",
      " [ 1.     8.734 16.84 ]\n",
      " [ 1.    13.11  15.56 ]\n",
      " [ 1.    15.49  19.97 ]\n",
      " [ 1.     9.755 28.2  ]]\n"
     ]
    }
   ],
   "source": [
    "X = np.column_stack((np.ones(len(trainingX)), trainingX)) \n",
    "\n",
    "print(X)"
   ]
  },
  {
   "cell_type": "code",
   "execution_count": 44,
   "metadata": {},
   "outputs": [
    {
     "name": "stdout",
     "output_type": "stream",
     "text": [
      "[1. 1. 1.]\n"
     ]
    }
   ],
   "source": [
    "# normaalvector w\n",
    "w = np.ones(len(X[0]))\n",
    "\n",
    "print(w)"
   ]
  },
  {
   "cell_type": "code",
   "execution_count": 45,
   "metadata": {},
   "outputs": [
    {
     "name": "stdout",
     "output_type": "stream",
     "text": [
      "[-1.  0. -1.  0.  0.  0. -1. -1. -1.  0. -1.  0.  0.  0. -1. -1.  0.  0.\n",
      " -1. -1. -1. -1.  0. -1.  0. -1. -1.  0.  0. -1.]\n"
     ]
    }
   ],
   "source": [
    "\n",
    "def afstanden(X,y,w,metLagrange):\n",
    "\n",
    "    # de afstanden zijn de y-waarden maal het vectorproduct van de inputs en de normaalvector - 1\n",
    "    afstanden = y * (np.dot(X, w)) - 1\n",
    "\n",
    "    if metLagrange:\n",
    "        afstanden[afstanden > 0] = 0\n",
    "\n",
    "    return afstanden\n",
    "\n",
    "afst = afstanden(X,trainingY,w,True)"
   ]
  },
  {
   "cell_type": "code",
   "execution_count": null,
   "metadata": {},
   "outputs": [],
   "source": [
    "def fit(epochs, lr):\n",
    "    for i in range(epochs):\n",
    "        L, dw = get_cost_grads(X, w, y)\n",
    "        w = w - lr * dw\n",
    "        if i % 1000 == 0:\n",
    "            print(i, ' | ', L)"
   ]
  }
 ],
 "metadata": {
  "kernelspec": {
   "display_name": "base",
   "language": "python",
   "name": "python3"
  },
  "language_info": {
   "codemirror_mode": {
    "name": "ipython",
    "version": 3
   },
   "file_extension": ".py",
   "mimetype": "text/x-python",
   "name": "python",
   "nbconvert_exporter": "python",
   "pygments_lexer": "ipython3",
   "version": "3.11.4"
  }
 },
 "nbformat": 4,
 "nbformat_minor": 2
}
