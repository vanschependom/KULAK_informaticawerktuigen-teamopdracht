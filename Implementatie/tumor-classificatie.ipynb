{
 "cells": [
  {
   "cell_type": "markdown",
   "metadata": {},
   "source": [
    "# Goedaardig vs kwaadaardige tumoren - Support Vector Machines"
   ]
  },
  {
   "cell_type": "markdown",
   "metadata": {},
   "source": [
    "We voorspellen of een tumor goedaardig (_benign_ of kortweg _B_) is, of de patiënt weldegelijk borstkanker heeft en de tumor dus kwaardaardig (_malignant_ of kortweg _M_) is."
   ]
  },
  {
   "cell_type": "code",
   "execution_count": 45,
   "metadata": {},
   "outputs": [],
   "source": [
    "from toepassing_procedures import *\n",
    "import numpy as np\n",
    "# data inladen\n",
    "import pandas as pd\n",
    "from pandas import read_csv\n",
    "# data opsplitsen in trainings-, validatie- en testset\n",
    "from sklearn.model_selection import train_test_split\n",
    "# grafieken\n",
    "from matplotlib import pyplot as plt\n",
    "# nodig voor het maken van het svm model\n",
    "from sklearn import svm\n",
    "# nodig om accuraatheid van de voorspellingen te bekijken\n",
    "from sklearn import metrics"
   ]
  },
  {
   "cell_type": "code",
   "execution_count": 46,
   "metadata": {},
   "outputs": [
    {
     "name": "stdout",
     "output_type": "stream",
     "text": [
      "Grootte training data: \t(285, 33) (50%)\n",
      "Grootte validatie data: (141, 33) (25%)\n",
      "Grootte test data: \t(143, 33) (25%)\n"
     ]
    }
   ],
   "source": [
    "# We laden de data\n",
    "gegevens = read_csv(\"data.csv\")\n",
    "\n",
    "# We genereren een random random_state\n",
    "random_state = np.random.randint(100)\n",
    "\n",
    "# We verdelen de data in 50% training, 25% validatie en 25% test\n",
    "tmp, testData = train_test_split(gegevens, test_size=0.25, random_state=random_state)\n",
    "trainingData, validatieData = train_test_split(tmp, test_size=0.33, random_state=random_state)\n",
    "\n",
    "# Print the shapes of the resulting datasets\n",
    "print(f\"Grootte training data: \\t{trainingData.shape} (50%)\")\n",
    "print(f\"Grootte validatie data: {validatieData.shape} (25%)\")\n",
    "print(f\"Grootte test data: \\t{testData.shape} (25%)\")\n"
   ]
  },
  {
   "cell_type": "code",
   "execution_count": 47,
   "metadata": {},
   "outputs": [
    {
     "name": "stdout",
     "output_type": "stream",
     "text": [
      "           id diagnosis  radius_mean  texture_mean  perimeter_mean  area_mean  \\\n",
      "317    894326         M       18.220         18.87          118.70     1027.0   \n",
      "508    915452         B       16.300         15.70          104.70      819.8   \n",
      "46   85713702         B        8.196         16.84           51.71      201.9   \n",
      "42     855625         M       19.070         24.81          128.30     1104.0   \n",
      "180    873592         M       27.220         21.87          182.10     2250.0   \n",
      "\n",
      "     smoothness_mean  compactness_mean  concavity_mean  concave points_mean  \\\n",
      "317          0.09746           0.11170         0.11300             0.079500   \n",
      "508          0.09427           0.06712         0.05526             0.045630   \n",
      "46           0.08600           0.05943         0.01588             0.005917   \n",
      "42           0.09081           0.21900         0.21070             0.099610   \n",
      "180          0.10940           0.19140         0.28710             0.187800   \n",
      "\n",
      "     ...  texture_worst  perimeter_worst  area_worst  smoothness_worst  \\\n",
      "317  ...          25.00           140.90      1485.0            0.1434   \n",
      "508  ...          17.76           109.80       928.2            0.1354   \n",
      "46   ...          21.96            57.26       242.2            0.1297   \n",
      "42   ...          33.17           177.40      1651.0            0.1247   \n",
      "180  ...          32.85           220.80      3216.0            0.1472   \n",
      "\n",
      "     compactness_worst  concavity_worst  concave points_worst  symmetry_worst  \\\n",
      "317             0.2763           0.3853               0.17760          0.2812   \n",
      "508             0.1361           0.1947               0.13570          0.2300   \n",
      "46              0.1357           0.0688               0.02564          0.3105   \n",
      "42              0.7444           0.7242               0.24930          0.4670   \n",
      "180             0.4034           0.5340               0.26880          0.2856   \n",
      "\n",
      "     fractal_dimension_worst  Unnamed: 32  \n",
      "317                  0.08198          NaN  \n",
      "508                  0.07230          NaN  \n",
      "46                   0.07409          NaN  \n",
      "42                   0.10380          NaN  \n",
      "180                  0.08082          NaN  \n",
      "\n",
      "[5 rows x 33 columns]\n"
     ]
    }
   ],
   "source": [
    "print(trainingData.head())"
   ]
  },
  {
   "cell_type": "code",
   "execution_count": 48,
   "metadata": {},
   "outputs": [
    {
     "name": "stdout",
     "output_type": "stream",
     "text": [
      "B    176\n",
      "M    109\n",
      "Name: diagnosis, dtype: int64\n",
      "Er zijn 176 goedaardige tumoren en 109 kwaadaardige tumoren in de training data.\n"
     ]
    }
   ],
   "source": [
    "# We tellen het aantal diagnoses in de training data\n",
    "diagnosesTotaal = trainingData['diagnosis'].value_counts()\n",
    "\n",
    "print(diagnosesTotaal)\n",
    "\n",
    "aantalGoedaardig = diagnosesTotaal[0]\n",
    "aantalKwaadaardig = diagnosesTotaal[1]\n",
    "\n",
    "print(f\"Er zijn {aantalGoedaardig} goedaardige tumoren en {aantalKwaadaardig} kwaadaardige tumoren in de training data.\")"
   ]
  },
  {
   "cell_type": "code",
   "execution_count": 49,
   "metadata": {},
   "outputs": [],
   "source": [
    "# We selecteren de kolommen met de features (x-waarden)\n",
    "trainingFeatures = trainingData.iloc[:,2:32]\n",
    "validatieFeatures = validatieData.iloc[:,2:32]\n",
    "testFeatures = testData.iloc[:,2:32]\n",
    "\n",
    "# We selecteren de kolom met de diagnoses (y-waarden)\n",
    "trainingDiagnoses = trainingData.iloc[:,1]\n",
    "validatieDiagnoses = validatieData.iloc[:,1]\n",
    "testDiagnoses = testData.iloc[:,1]"
   ]
  },
  {
   "cell_type": "code",
   "execution_count": 50,
   "metadata": {},
   "outputs": [
    {
     "name": "stdout",
     "output_type": "stream",
     "text": [
      "     radius_mean  texture_mean  perimeter_mean  area_mean  smoothness_mean  \\\n",
      "317       18.220         18.87          118.70     1027.0          0.09746   \n",
      "508       16.300         15.70          104.70      819.8          0.09427   \n",
      "46         8.196         16.84           51.71      201.9          0.08600   \n",
      "42        19.070         24.81          128.30     1104.0          0.09081   \n",
      "180       27.220         21.87          182.10     2250.0          0.10940   \n",
      "..           ...           ...             ...        ...              ...   \n",
      "560       14.050         27.15           91.38      600.4          0.09929   \n",
      "70        18.940         21.31          123.60     1130.0          0.09009   \n",
      "559       11.510         23.93           74.52      403.5          0.09261   \n",
      "110        9.777         16.99           62.50      290.2          0.10370   \n",
      "0         17.990         10.38          122.80     1001.0          0.11840   \n",
      "\n",
      "     compactness_mean  concavity_mean  concave points_mean  symmetry_mean  \\\n",
      "317           0.11170         0.11300             0.079500         0.1807   \n",
      "508           0.06712         0.05526             0.045630         0.1711   \n",
      "46            0.05943         0.01588             0.005917         0.1769   \n",
      "42            0.21900         0.21070             0.099610         0.2310   \n",
      "180           0.19140         0.28710             0.187800         0.1800   \n",
      "..                ...             ...                  ...            ...   \n",
      "560           0.11260         0.04462             0.043040         0.1537   \n",
      "70            0.10290         0.10800             0.079510         0.1582   \n",
      "559           0.10210         0.11120             0.041050         0.1388   \n",
      "110           0.08404         0.04334             0.017780         0.1584   \n",
      "0             0.27760         0.30010             0.147100         0.2419   \n",
      "\n",
      "     fractal_dimension_mean  ...  radius_worst  texture_worst  \\\n",
      "317                 0.05664  ...        21.840          25.00   \n",
      "508                 0.05657  ...        17.320          17.76   \n",
      "46                  0.06503  ...         8.964          21.96   \n",
      "42                  0.06343  ...        24.090          33.17   \n",
      "180                 0.05770  ...        33.120          32.85   \n",
      "..                      ...  ...           ...            ...   \n",
      "560                 0.06171  ...        15.300          33.17   \n",
      "70                  0.05461  ...        24.860          26.58   \n",
      "559                 0.06570  ...        12.480          37.16   \n",
      "110                 0.07065  ...        11.050          21.47   \n",
      "0                   0.07871  ...        25.380          17.33   \n",
      "\n",
      "     perimeter_worst  area_worst  smoothness_worst  compactness_worst  \\\n",
      "317           140.90      1485.0            0.1434             0.2763   \n",
      "508           109.80       928.2            0.1354             0.1361   \n",
      "46             57.26       242.2            0.1297             0.1357   \n",
      "42            177.40      1651.0            0.1247             0.7444   \n",
      "180           220.80      3216.0            0.1472             0.4034   \n",
      "..               ...         ...               ...                ...   \n",
      "560           100.20       706.7            0.1241             0.2264   \n",
      "70            165.90      1866.0            0.1193             0.2336   \n",
      "559            82.28       474.2            0.1298             0.2517   \n",
      "110            71.68       367.0            0.1467             0.1765   \n",
      "0             184.60      2019.0            0.1622             0.6656   \n",
      "\n",
      "     concavity_worst  concave points_worst  symmetry_worst  \\\n",
      "317           0.3853               0.17760          0.2812   \n",
      "508           0.1947               0.13570          0.2300   \n",
      "46            0.0688               0.02564          0.3105   \n",
      "42            0.7242               0.24930          0.4670   \n",
      "180           0.5340               0.26880          0.2856   \n",
      "..               ...                   ...             ...   \n",
      "560           0.1326               0.10480          0.2250   \n",
      "70            0.2687               0.17890          0.2551   \n",
      "559           0.3630               0.09653          0.2112   \n",
      "110           0.1300               0.05334          0.2533   \n",
      "0             0.7119               0.26540          0.4601   \n",
      "\n",
      "     fractal_dimension_worst  \n",
      "317                  0.08198  \n",
      "508                  0.07230  \n",
      "46                   0.07409  \n",
      "42                   0.10380  \n",
      "180                  0.08082  \n",
      "..                       ...  \n",
      "560                  0.08321  \n",
      "70                   0.06589  \n",
      "559                  0.08732  \n",
      "110                  0.08468  \n",
      "0                    0.11890  \n",
      "\n",
      "[285 rows x 30 columns]\n"
     ]
    }
   ],
   "source": [
    "print(trainingFeatures)"
   ]
  },
  {
   "cell_type": "code",
   "execution_count": 51,
   "metadata": {},
   "outputs": [
    {
     "name": "stdout",
     "output_type": "stream",
     "text": [
      "317    M\n",
      "508    B\n",
      "46     B\n",
      "42     M\n",
      "180    M\n",
      "      ..\n",
      "560    B\n",
      "70     M\n",
      "559    B\n",
      "110    B\n",
      "0      M\n",
      "Name: diagnosis, Length: 285, dtype: object\n"
     ]
    }
   ],
   "source": [
    "print(trainingDiagnoses)"
   ]
  },
  {
   "cell_type": "code",
   "execution_count": 52,
   "metadata": {},
   "outputs": [
    {
     "name": "stdout",
     "output_type": "stream",
     "text": [
      "[[1.822e+01 1.887e+01 1.187e+02 ... 1.776e-01 2.812e-01 8.198e-02]\n",
      " [1.630e+01 1.570e+01 1.047e+02 ... 1.357e-01 2.300e-01 7.230e-02]\n",
      " [8.196e+00 1.684e+01 5.171e+01 ... 2.564e-02 3.105e-01 7.409e-02]\n",
      " ...\n",
      " [1.151e+01 2.393e+01 7.452e+01 ... 9.653e-02 2.112e-01 8.732e-02]\n",
      " [9.777e+00 1.699e+01 6.250e+01 ... 5.334e-02 2.533e-01 8.468e-02]\n",
      " [1.799e+01 1.038e+01 1.228e+02 ... 2.654e-01 4.601e-01 1.189e-01]]\n"
     ]
    }
   ],
   "source": [
    "# we halen de waardes van de feautures op\n",
    "trainingX = trainingFeatures.values\n",
    "validatieX = validatieFeatures.values\n",
    "testX = testFeatures.values\n",
    "\n",
    "print(trainingX)"
   ]
  },
  {
   "cell_type": "code",
   "execution_count": 53,
   "metadata": {},
   "outputs": [
    {
     "name": "stdout",
     "output_type": "stream",
     "text": [
      "['M' 'B' 'B' 'M' 'M' 'M' 'B' 'B' 'B' 'B' 'B' 'M' 'B' 'M' 'B' 'B' 'M' 'M'\n",
      " 'B' 'M' 'B' 'B' 'B' 'M' 'B' 'B' 'M' 'M' 'M' 'B' 'B' 'M' 'M' 'B' 'B' 'B'\n",
      " 'M' 'M' 'B' 'B' 'B' 'B' 'M' 'M' 'M' 'B' 'B' 'B' 'B' 'B' 'B' 'B' 'M' 'M'\n",
      " 'B' 'M' 'B' 'B' 'B' 'B' 'B' 'B' 'B' 'B' 'B' 'B' 'B' 'M' 'M' 'B' 'M' 'B'\n",
      " 'M' 'B' 'B' 'B' 'M' 'B' 'M' 'B' 'B' 'M' 'B' 'M' 'B' 'B' 'B' 'M' 'B' 'M'\n",
      " 'B' 'M' 'M' 'B' 'B' 'M' 'B' 'M' 'B' 'B' 'M' 'B' 'B' 'M' 'B' 'M' 'B' 'B'\n",
      " 'B' 'B' 'B' 'B' 'B' 'M' 'M' 'B' 'B' 'M' 'B' 'B' 'B' 'M' 'B' 'M' 'B' 'B'\n",
      " 'M' 'B' 'B' 'B' 'B' 'B' 'M' 'M' 'M' 'B' 'B' 'M' 'B' 'B' 'M' 'M' 'M' 'B'\n",
      " 'B' 'M' 'B' 'B' 'B' 'B' 'M' 'B' 'M' 'M' 'B' 'B' 'M' 'M' 'B' 'M' 'B' 'B'\n",
      " 'M' 'M' 'B' 'B' 'B' 'M' 'B' 'B' 'M' 'B' 'M' 'M' 'M' 'B' 'B' 'B' 'B' 'B'\n",
      " 'M' 'B' 'M' 'M' 'B' 'B' 'B' 'B' 'M' 'B' 'M' 'M' 'B' 'B' 'M' 'M' 'B' 'M'\n",
      " 'B' 'B' 'M' 'M' 'B' 'M' 'B' 'B' 'B' 'M' 'M' 'B' 'M' 'B' 'B' 'M' 'B' 'M'\n",
      " 'M' 'B' 'B' 'M' 'B' 'B' 'B' 'B' 'B' 'B' 'B' 'B' 'B' 'B' 'B' 'M' 'B' 'B'\n",
      " 'M' 'B' 'M' 'B' 'B' 'M' 'M' 'B' 'B' 'B' 'M' 'B' 'B' 'B' 'B' 'B' 'B' 'M'\n",
      " 'B' 'B' 'M' 'B' 'M' 'M' 'B' 'M' 'B' 'B' 'M' 'M' 'B' 'M' 'M' 'B' 'M' 'B'\n",
      " 'B' 'B' 'M' 'M' 'B' 'M' 'B' 'B' 'M' 'M' 'B' 'M' 'B' 'B' 'M']\n"
     ]
    }
   ],
   "source": [
    "# we halen de waardes van de diagnoses op\n",
    "trainingY = trainingDiagnoses.values\n",
    "validatieY = validatieDiagnoses.values\n",
    "testY = testDiagnoses.values\n",
    "\n",
    "print(trainingY)"
   ]
  },
  {
   "cell_type": "code",
   "execution_count": 54,
   "metadata": {},
   "outputs": [
    {
     "name": "stdout",
     "output_type": "stream",
     "text": [
      "['M' 'M' 'B' 'B' 'B' 'B' 'B' 'M' 'B' 'B' 'B' 'B' 'B' 'M' 'M' 'B' 'B' 'B'\n",
      " 'B' 'B' 'M' 'M' 'B' 'M' 'B' 'M' 'M' 'B' 'M' 'B' 'B' 'B' 'M' 'B' 'M' 'M'\n",
      " 'M' 'M' 'B' 'B' 'B' 'B' 'M' 'M' 'B' 'B' 'B' 'B' 'B' 'B' 'B' 'B' 'B' 'M'\n",
      " 'B' 'M' 'M' 'M' 'B' 'B' 'M' 'B' 'B' 'M' 'B' 'B' 'B' 'M' 'B' 'B' 'M' 'B'\n",
      " 'M' 'B' 'M' 'B' 'B' 'B' 'M' 'B' 'M' 'B' 'B' 'M' 'M' 'B' 'B' 'M' 'B' 'B'\n",
      " 'B' 'M' 'B' 'M' 'B' 'B' 'B' 'B' 'M' 'B' 'B' 'B' 'M' 'B' 'B' 'B' 'B' 'M'\n",
      " 'M' 'B' 'M' 'B' 'B' 'B' 'M' 'B' 'M' 'B' 'M' 'B' 'B' 'B' 'M' 'B' 'B' 'B'\n",
      " 'B' 'B' 'M' 'M' 'B' 'B' 'B' 'B' 'M' 'M' 'M' 'B' 'B' 'B' 'B']\n"
     ]
    }
   ],
   "source": [
    "# Dit is de classifier of classificator\n",
    "# We gebruiken de kernel trick om de data te kunnen scheiden\n",
    "# In dit geval gebruiken we een lineaire kernel\n",
    "clf = svm.SVC(kernel='linear')\n",
    "\n",
    "# We trainen de classifier met de training data\n",
    "clf.fit(trainingX,trainingY)\n",
    "\n",
    "# We voorspellen de diagnoses van de validatie data\n",
    "validatieVoorspellingen = clf.predict(validatieX)\n",
    "\n",
    "print(validatieVoorspellingen)"
   ]
  },
  {
   "cell_type": "code",
   "execution_count": 55,
   "metadata": {},
   "outputs": [
    {
     "name": "stdout",
     "output_type": "stream",
     "text": [
      "De accuraatheid van de voorspellingen is 94.33%\n"
     ]
    }
   ],
   "source": [
    "# we berekenen de accuraatheid van de voorspellingen\n",
    "accuraatheid = metrics.accuracy_score(validatieY, validatieVoorspellingen)\n",
    "print(f\"De accuraatheid van de voorspellingen is {accuraatheid*100:.2f}%\")"
   ]
  },
  {
   "cell_type": "markdown",
   "metadata": {},
   "source": [
    "### Validatiegegevens gebruiken om de 3 meta-parameters te bepalen."
   ]
  },
  {
   "cell_type": "markdown",
   "metadata": {},
   "source": [
    "#### C-term<br>\n",
    "De C-term staat voor de __foutentoleratie__ van het model.<br><br>\n",
    "*Kleine waarden voor C:* <br>\n",
    "Wanneer C klein is, laat het model meer fouten toe, waardoor de beslissingsgrens eenvoudiger wordt.<br><br>\n",
    "*Grote waarden voor C:* <br>\n",
    "Wanneer C groot is, laat het model een laag aantal fouten toe, waardoor de beslissingsgrens complexer wordt.<br>"
   ]
  },
  {
   "cell_type": "code",
   "execution_count": 56,
   "metadata": {},
   "outputs": [
    {
     "name": "stdout",
     "output_type": "stream",
     "text": [
      "De accuraatheid van de voorspellingen op de validatiedata is 94.32624% met C=1\n",
      "De accuraatheid van de voorspellingen op de validatiedata is 94.32624% met C=2\n",
      "De accuraatheid van de voorspellingen op de validatiedata is 93.61702% met C=3\n",
      "De accuraatheid van de voorspellingen op de validatiedata is 92.90780% met C=4\n",
      "De accuraatheid van de voorspellingen op de validatiedata is 92.19858% met C=5\n",
      "De accuraatheid van de voorspellingen op de validatiedata is 93.61702% met C=6\n",
      "De accuraatheid van de voorspellingen op de validatiedata is 92.90780% met C=7\n",
      "De accuraatheid van de voorspellingen op de validatiedata is 93.61702% met C=8\n",
      "De accuraatheid van de voorspellingen op de validatiedata is 93.61702% met C=9\n",
      "\n",
      "De optimale waarde voor C is 1 met een accuraatheid van 94.33%\n"
     ]
    }
   ],
   "source": [
    "# De C-term is een metaparameter en staat voor de foutentoleratie van het model.\n",
    "mogelijkeCs = [c for c in range(1, 10)]\n",
    "\n",
    "hoogsteAccuraatheid = 0\n",
    "cOpt = 0\n",
    "\n",
    "# Overloop verschillende waarden voor C\n",
    "for C in mogelijkeCs:\n",
    "\n",
    "    clf = svm.SVC(kernel='linear', C=C)\n",
    "    clf.fit(trainingX, trainingY)\n",
    "    validatieVoorspellingen = clf.predict(validatieX)\n",
    "    accuraatheid = metrics.accuracy_score(validatieY, validatieVoorspellingen)\n",
    "\n",
    "    print(f\"De accuraatheid van de voorspellingen op de validatiedata is {accuraatheid*100:.5f}% met C={C}\")\n",
    "\n",
    "    if accuraatheid > hoogsteAccuraatheid:\n",
    "        hoogsteAccuraatheid = accuraatheid\n",
    "        cOpt = C\n",
    "\n",
    "print(f\"\\nDe optimale waarde voor C is {cOpt} met een accuraatheid van {hoogsteAccuraatheid*100:.2f}%\")"
   ]
  },
  {
   "cell_type": "markdown",
   "metadata": {},
   "source": [
    "#### Kernel<br>\n",
    "De kernel zegt het model welke 'trick' het het moet gebruiken om de data te scheiden."
   ]
  },
  {
   "cell_type": "code",
   "execution_count": 57,
   "metadata": {},
   "outputs": [
    {
     "name": "stdout",
     "output_type": "stream",
     "text": [
      "De accuraatheid van de voorspellingen op de validatiedata is 94.32624% met de kernel 'linear' en C=1\n",
      "De accuraatheid van de voorspellingen op de validatiedata is 90.78014% met de kernel 'poly' en C=1\n",
      "De accuraatheid van de voorspellingen op de validatiedata is 90.78014% met de kernel 'rbf' en C=1\n",
      "De accuraatheid van de voorspellingen op de validatiedata is 49.64539% met de kernel 'sigmoid' en C=1\n",
      "\n",
      "De optimale kernel is 'linear' met een accuraatheid van 94.33% voor C=1\n"
     ]
    }
   ],
   "source": [
    "# De kernel zegt het model welke 'trick' het het moet gebruiken om de data te scheiden.\n",
    "mogelijkeKernels = ['linear', 'poly', 'rbf', 'sigmoid']\n",
    "\n",
    "optKernel = \"\"\n",
    "hoogsteAccuraatheid = 0\n",
    "\n",
    "for kernel in mogelijkeKernels:\n",
    "\n",
    "    clf = svm.SVC(kernel=kernel, C=cOpt)\n",
    "    clf.fit(trainingX, trainingY)\n",
    "    validatieVoorspellingen = clf.predict(validatieX)\n",
    "    accuraatheid = metrics.accuracy_score(validatieY, validatieVoorspellingen)\n",
    "\n",
    "    print(f\"De accuraatheid van de voorspellingen op de validatiedata is {accuraatheid*100:.5f}% met de kernel '{kernel}' en C={cOpt}\")\n",
    "\n",
    "    if accuraatheid > hoogsteAccuraatheid:\n",
    "        hoogsteAccuraatheid = accuraatheid\n",
    "        optKernel = kernel\n",
    "\n",
    "print(f\"\\nDe optimale kernel is '{optKernel}' met een accuraatheid van {hoogsteAccuraatheid*100:.2f}% voor C={cOpt}\")"
   ]
  },
  {
   "cell_type": "markdown",
   "metadata": {},
   "source": [
    "#### Gamma<br>\n",
    "De $\\gamma$ staat voor de __foutentoleratie__ van het model.<br><br>\n",
    "*Kleine waarden voor $\\gamma$:* <br>\n",
    "Een te lage gamma-waarde kan leiden tot _overgeneralisatie_, waarbij de beslissingsgrens te eenvoudig is en het model niet goed presteert op de trainingsgegevens.<br><br>\n",
    "*Grote waarden voor $\\gamma$:* <br>\n",
    "Een te hoge gamma-waarde kan leiden tot _overfitting_, waarbij het model de trainingsgegevens te nauw volgt en dus niet goed zal presteren op nog niet eerder geziene gegevens.<br>"
   ]
  },
  {
   "cell_type": "code",
   "execution_count": 58,
   "metadata": {},
   "outputs": [
    {
     "name": "stdout",
     "output_type": "stream",
     "text": [
      "De accuraatheid van de voorspellingen op de validatiedata is 94.32624% met gamma=1, de kernel 'linear' en C=1\n",
      "De accuraatheid van de voorspellingen op de validatiedata is 94.32624% met gamma=2, de kernel 'linear' en C=1\n",
      "De accuraatheid van de voorspellingen op de validatiedata is 94.32624% met gamma=3, de kernel 'linear' en C=1\n",
      "De accuraatheid van de voorspellingen op de validatiedata is 94.32624% met gamma=4, de kernel 'linear' en C=1\n",
      "De accuraatheid van de voorspellingen op de validatiedata is 94.32624% met gamma=5, de kernel 'linear' en C=1\n",
      "De accuraatheid van de voorspellingen op de validatiedata is 94.32624% met gamma=6, de kernel 'linear' en C=1\n",
      "De accuraatheid van de voorspellingen op de validatiedata is 94.32624% met gamma=7, de kernel 'linear' en C=1\n",
      "De accuraatheid van de voorspellingen op de validatiedata is 94.32624% met gamma=8, de kernel 'linear' en C=1\n",
      "De accuraatheid van de voorspellingen op de validatiedata is 94.32624% met gamma=9, de kernel 'linear' en C=1\n",
      "\n",
      "De optimale waarde voor gamma is 1 met een accuraatheid van 94.33% voor de kernel 'linear' en C=1\n"
     ]
    }
   ],
   "source": [
    "# De C-term is een metaparameter en staat voor de foutentoleratie van het model.\n",
    "mogelijkeGammas = [gamma for gamma in range(1, 10)]\n",
    "\n",
    "hoogsteAccuraatheid = 0\n",
    "gammaOpt = 0\n",
    "\n",
    "# Overloop verschillende waarden voor C\n",
    "for gamma in mogelijkeGammas:\n",
    "\n",
    "    clf = svm.SVC(kernel=optKernel, C=cOpt, gamma=gamma)\n",
    "    clf.fit(trainingX, trainingY)\n",
    "    validatieVoorspellingen = clf.predict(validatieX)\n",
    "    accuraatheid = metrics.accuracy_score(validatieY, validatieVoorspellingen)\n",
    "\n",
    "    print(f\"De accuraatheid van de voorspellingen op de validatiedata is {accuraatheid*100:.5f}% met gamma={gamma}, de kernel '{optKernel}' en C={cOpt}\")\n",
    "\n",
    "    if accuraatheid > hoogsteAccuraatheid:\n",
    "        hoogsteAccuraatheid = accuraatheid\n",
    "        gammaOpt = gamma\n",
    "\n",
    "print(f\"\\nDe optimale waarde voor gamma is {gammaOpt} met een accuraatheid van {hoogsteAccuraatheid*100:.2f}% voor de kernel '{optKernel}' en C={cOpt}\")"
   ]
  },
  {
   "cell_type": "markdown",
   "metadata": {},
   "source": [
    "### Toepassen op de testdata"
   ]
  },
  {
   "cell_type": "code",
   "execution_count": 59,
   "metadata": {},
   "outputs": [
    {
     "name": "stdout",
     "output_type": "stream",
     "text": [
      "De accuraatheid van de voorspellingen op de testdata is 98.60% voor de kernel 'linear', C=1 en gamma=1\n"
     ]
    }
   ],
   "source": [
    "clf = svm.SVC(kernel=optKernel, C=cOpt, gamma=gammaOpt)\n",
    "clf.fit(trainingX, trainingY)\n",
    "testVoorspellingen = clf.predict(testX)\n",
    "accuraatheid = metrics.accuracy_score(testY, testVoorspellingen)\n",
    "\n",
    "print(f\"De accuraatheid van de voorspellingen op de testdata is {accuraatheid*100:.2f}% voor de kernel '{optKernel}', C={cOpt} en gamma={gammaOpt}\")"
   ]
  }
 ],
 "metadata": {
  "kernelspec": {
   "display_name": "base",
   "language": "python",
   "name": "python3"
  },
  "language_info": {
   "codemirror_mode": {
    "name": "ipython",
    "version": 3
   },
   "file_extension": ".py",
   "mimetype": "text/x-python",
   "name": "python",
   "nbconvert_exporter": "python",
   "pygments_lexer": "ipython3",
   "version": "3.11.4"
  }
 },
 "nbformat": 4,
 "nbformat_minor": 2
}
