{
 "cells": [
  {
   "cell_type": "markdown",
   "metadata": {},
   "source": [
    "# Goedaardig vs kwaadaardige tumoren - Support Vector Machines"
   ]
  },
  {
   "cell_type": "markdown",
   "metadata": {},
   "source": [
    "We voorspellen of een tumor goedaardig (_benign_ of kortweg _B_) is, of de patiënt weldegelijk borstkanker heeft en de tumor dus kwaardaardig (_malignant_ of kortweg _M_) is."
   ]
  },
  {
   "cell_type": "code",
   "execution_count": 19,
   "metadata": {},
   "outputs": [],
   "source": [
    "import numpy as np\n",
    "# data inladen\n",
    "import pandas as pd\n",
    "from pandas import read_csv\n",
    "# data opsplitsen in trainings-, validatie- en testset\n",
    "from sklearn.model_selection import train_test_split\n",
    "# grafieken\n",
    "from matplotlib import pyplot as plt\n",
    "# nodig voor het maken van het svm model\n",
    "from sklearn import svm\n",
    "# nodig om accuraatheid van de voorspellingen te bekijken\n",
    "from sklearn import metrics"
   ]
  },
  {
   "cell_type": "code",
   "execution_count": 20,
   "metadata": {},
   "outputs": [
    {
     "name": "stdout",
     "output_type": "stream",
     "text": [
      "Grootte training data: \t(285, 33) (50%)\n",
      "Grootte validatie data: (141, 33) (25%)\n",
      "Grootte test data: \t(143, 33) (25%)\n"
     ]
    }
   ],
   "source": [
    "# We laden de data\n",
    "gegevens = read_csv(\"data.csv\")\n",
    "\n",
    "# We genereren een random random_state\n",
    "random_state = np.random.randint(100)\n",
    "\n",
    "# We verdelen de data in 50% training, 25% validatie en 25% test\n",
    "tmp, testData = train_test_split(gegevens, test_size=0.25, random_state=random_state)\n",
    "trainingData, validatieData = train_test_split(tmp, test_size=0.33, random_state=random_state)\n",
    "\n",
    "# Print the shapes of the resulting datasets\n",
    "print(f\"Grootte training data: \\t{trainingData.shape} (50%)\")\n",
    "print(f\"Grootte validatie data: {validatieData.shape} (25%)\")\n",
    "print(f\"Grootte test data: \\t{testData.shape} (25%)\")\n"
   ]
  },
  {
   "cell_type": "code",
   "execution_count": 21,
   "metadata": {},
   "outputs": [
    {
     "name": "stdout",
     "output_type": "stream",
     "text": [
      "           id diagnosis  radius_mean  texture_mean  perimeter_mean  area_mean  \\\n",
      "394    903554         B        12.10         17.72           78.07      446.2   \n",
      "372   9012795         M        21.37         15.10          141.30     1386.0   \n",
      "14   84667401         M        13.73         22.61           93.60      578.3   \n",
      "333    897137         B        11.25         14.78           71.38      390.0   \n",
      "397  90401602         B        12.80         17.46           83.05      508.3   \n",
      "\n",
      "     smoothness_mean  compactness_mean  concavity_mean  concave points_mean  \\\n",
      "394          0.10290           0.09758        0.047830             0.033260   \n",
      "372          0.10010           0.15150        0.193200             0.125500   \n",
      "14           0.11310           0.22930        0.212800             0.080250   \n",
      "333          0.08306           0.04458        0.000974             0.002941   \n",
      "397          0.08044           0.08895        0.073900             0.040830   \n",
      "\n",
      "     ...  texture_worst  perimeter_worst  area_worst  smoothness_worst  \\\n",
      "394  ...          25.80            88.33       559.5           0.14320   \n",
      "372  ...          21.84           152.10      1535.0           0.11920   \n",
      "14   ...          32.01           108.80       697.7           0.16510   \n",
      "333  ...          22.06            82.08       492.7           0.11660   \n",
      "397  ...          21.06            90.72       591.0           0.09534   \n",
      "\n",
      "     compactness_worst  concavity_worst  concave points_worst  symmetry_worst  \\\n",
      "394            0.17730         0.160300               0.06266          0.3049   \n",
      "372            0.28400         0.402400               0.19660          0.2730   \n",
      "14             0.77250         0.694300               0.22080          0.3596   \n",
      "333            0.09794         0.005518               0.01667          0.2815   \n",
      "397            0.18120         0.190100               0.08296          0.1988   \n",
      "\n",
      "     fractal_dimension_worst  Unnamed: 32  \n",
      "394                  0.07081          NaN  \n",
      "372                  0.08666          NaN  \n",
      "14                   0.14310          NaN  \n",
      "333                  0.07418          NaN  \n",
      "397                  0.07053          NaN  \n",
      "\n",
      "[5 rows x 33 columns]\n"
     ]
    }
   ],
   "source": [
    "print(trainingData.head())"
   ]
  },
  {
   "cell_type": "code",
   "execution_count": 22,
   "metadata": {},
   "outputs": [
    {
     "name": "stdout",
     "output_type": "stream",
     "text": [
      "B    181\n",
      "M    104\n",
      "Name: diagnosis, dtype: int64\n",
      "Er zijn 181 goedaardige tumoren en 104 kwaadaardige tumoren in de training data.\n"
     ]
    }
   ],
   "source": [
    "# We tellen het aantal diagnoses in de training data\n",
    "diagnosesTotaal = trainingData['diagnosis'].value_counts()\n",
    "\n",
    "print(diagnosesTotaal)\n",
    "\n",
    "aantalGoedaardig = diagnosesTotaal[0]\n",
    "aantalKwaadaardig = diagnosesTotaal[1]\n",
    "\n",
    "print(f\"Er zijn {aantalGoedaardig} goedaardige tumoren en {aantalKwaadaardig} kwaadaardige tumoren in de training data.\")"
   ]
  },
  {
   "cell_type": "code",
   "execution_count": 23,
   "metadata": {},
   "outputs": [],
   "source": [
    "# We selecteren de kolommen met de features (x-waarden)\n",
    "trainingFeatures = trainingData.iloc[:,2:32]\n",
    "validatieFeatures = validatieData.iloc[:,2:32]\n",
    "testFeatures = testData.iloc[:,2:32]\n",
    "\n",
    "# We selecteren de kolom met de diagnoses (y-waarden)\n",
    "trainingDiagnoses = trainingData.iloc[:,1]\n",
    "validatieDiagnoses = validatieData.iloc[:,1]\n",
    "testDiagnoses = testData.iloc[:,1]"
   ]
  },
  {
   "cell_type": "code",
   "execution_count": 24,
   "metadata": {},
   "outputs": [
    {
     "name": "stdout",
     "output_type": "stream",
     "text": [
      "     radius_mean  texture_mean  perimeter_mean  area_mean  smoothness_mean  \\\n",
      "394       12.100         17.72           78.07      446.2          0.10290   \n",
      "372       21.370         15.10          141.30     1386.0          0.10010   \n",
      "14        13.730         22.61           93.60      578.3          0.11310   \n",
      "333       11.250         14.78           71.38      390.0          0.08306   \n",
      "397       12.800         17.46           83.05      508.3          0.08044   \n",
      "..           ...           ...             ...        ...              ...   \n",
      "473       12.270         29.97           77.42      465.4          0.07699   \n",
      "259       15.530         33.56          103.70      744.9          0.10630   \n",
      "522       11.260         19.83           71.30      388.1          0.08511   \n",
      "244       19.400         23.50          129.10     1155.0          0.10270   \n",
      "505        9.676         13.14           64.12      272.5          0.12550   \n",
      "\n",
      "     compactness_mean  concavity_mean  concave points_mean  symmetry_mean  \\\n",
      "394           0.09758        0.047830             0.033260         0.1937   \n",
      "372           0.15150        0.193200             0.125500         0.1973   \n",
      "14            0.22930        0.212800             0.080250         0.2069   \n",
      "333           0.04458        0.000974             0.002941         0.1773   \n",
      "397           0.08895        0.073900             0.040830         0.1574   \n",
      "..                ...             ...                  ...            ...   \n",
      "473           0.03398        0.000000             0.000000         0.1701   \n",
      "259           0.16390        0.175100             0.083990         0.2091   \n",
      "522           0.04413        0.005067             0.005664         0.1637   \n",
      "244           0.15580        0.204900             0.088860         0.1978   \n",
      "505           0.22040        0.118800             0.070380         0.2057   \n",
      "\n",
      "     fractal_dimension_mean  ...  radius_worst  texture_worst  \\\n",
      "394                 0.06161  ...         13.56          25.80   \n",
      "372                 0.06183  ...         22.69          21.84   \n",
      "14                  0.07682  ...         15.03          32.01   \n",
      "333                 0.06081  ...         12.76          22.06   \n",
      "397                 0.05750  ...         13.74          21.06   \n",
      "..                      ...  ...           ...            ...   \n",
      "473                 0.05960  ...         13.45          38.05   \n",
      "259                 0.06650  ...         18.49          49.54   \n",
      "522                 0.06343  ...         11.93          26.43   \n",
      "244                 0.06000  ...         21.65          30.53   \n",
      "505                 0.09575  ...         10.60          18.04   \n",
      "\n",
      "     perimeter_worst  area_worst  smoothness_worst  compactness_worst  \\\n",
      "394            88.33       559.5           0.14320            0.17730   \n",
      "372           152.10      1535.0           0.11920            0.28400   \n",
      "14            108.80       697.7           0.16510            0.77250   \n",
      "333            82.08       492.7           0.11660            0.09794   \n",
      "397            90.72       591.0           0.09534            0.18120   \n",
      "..               ...         ...               ...                ...   \n",
      "473            85.08       558.9           0.09422            0.05213   \n",
      "259           126.30      1035.0           0.18830            0.55640   \n",
      "522            76.38       435.9           0.11080            0.07723   \n",
      "244           144.90      1417.0           0.14630            0.29680   \n",
      "505            69.47       328.1           0.20060            0.36630   \n",
      "\n",
      "     concavity_worst  concave points_worst  symmetry_worst  \\\n",
      "394         0.160300               0.06266          0.3049   \n",
      "372         0.402400               0.19660          0.2730   \n",
      "14          0.694300               0.22080          0.3596   \n",
      "333         0.005518               0.01667          0.2815   \n",
      "397         0.190100               0.08296          0.1988   \n",
      "..               ...                   ...             ...   \n",
      "473         0.000000               0.00000          0.2409   \n",
      "259         0.570300               0.20140          0.3512   \n",
      "522         0.025330               0.02832          0.2557   \n",
      "244         0.345800               0.15640          0.2920   \n",
      "505         0.291300               0.10750          0.2848   \n",
      "\n",
      "     fractal_dimension_worst  \n",
      "394                  0.07081  \n",
      "372                  0.08666  \n",
      "14                   0.14310  \n",
      "333                  0.07418  \n",
      "397                  0.07053  \n",
      "..                       ...  \n",
      "473                  0.06743  \n",
      "259                  0.12040  \n",
      "522                  0.07613  \n",
      "244                  0.07614  \n",
      "505                  0.13640  \n",
      "\n",
      "[285 rows x 30 columns]\n"
     ]
    }
   ],
   "source": [
    "print(trainingFeatures)"
   ]
  },
  {
   "cell_type": "code",
   "execution_count": 25,
   "metadata": {},
   "outputs": [
    {
     "name": "stdout",
     "output_type": "stream",
     "text": [
      "394    B\n",
      "372    M\n",
      "14     M\n",
      "333    B\n",
      "397    B\n",
      "      ..\n",
      "473    B\n",
      "259    M\n",
      "522    B\n",
      "244    M\n",
      "505    B\n",
      "Name: diagnosis, Length: 285, dtype: object\n"
     ]
    }
   ],
   "source": [
    "print(trainingDiagnoses)"
   ]
  },
  {
   "cell_type": "code",
   "execution_count": 26,
   "metadata": {},
   "outputs": [
    {
     "name": "stdout",
     "output_type": "stream",
     "text": [
      "[[1.210e+01 1.772e+01 7.807e+01 ... 6.266e-02 3.049e-01 7.081e-02]\n",
      " [2.137e+01 1.510e+01 1.413e+02 ... 1.966e-01 2.730e-01 8.666e-02]\n",
      " [1.373e+01 2.261e+01 9.360e+01 ... 2.208e-01 3.596e-01 1.431e-01]\n",
      " ...\n",
      " [1.126e+01 1.983e+01 7.130e+01 ... 2.832e-02 2.557e-01 7.613e-02]\n",
      " [1.940e+01 2.350e+01 1.291e+02 ... 1.564e-01 2.920e-01 7.614e-02]\n",
      " [9.676e+00 1.314e+01 6.412e+01 ... 1.075e-01 2.848e-01 1.364e-01]]\n"
     ]
    }
   ],
   "source": [
    "# we halen de waardes van de feautures op\n",
    "trainingX = trainingFeatures.values\n",
    "validatieX = validatieFeatures.values\n",
    "testX = testFeatures.values\n",
    "\n",
    "print(trainingX)"
   ]
  },
  {
   "cell_type": "code",
   "execution_count": 27,
   "metadata": {},
   "outputs": [
    {
     "name": "stdout",
     "output_type": "stream",
     "text": [
      "['B' 'M' 'M' 'B' 'B' 'B' 'B' 'B' 'B' 'B' 'M' 'M' 'B' 'B' 'B' 'M' 'B' 'B'\n",
      " 'B' 'B' 'B' 'B' 'B' 'B' 'B' 'B' 'B' 'B' 'B' 'B' 'B' 'B' 'M' 'B' 'B' 'B'\n",
      " 'B' 'M' 'M' 'B' 'B' 'B' 'M' 'M' 'M' 'B' 'B' 'M' 'B' 'M' 'M' 'M' 'B' 'B'\n",
      " 'B' 'B' 'B' 'B' 'M' 'M' 'B' 'M' 'B' 'B' 'B' 'B' 'B' 'B' 'M' 'M' 'B' 'B'\n",
      " 'B' 'M' 'M' 'B' 'M' 'M' 'B' 'B' 'B' 'B' 'B' 'B' 'B' 'B' 'B' 'B' 'M' 'B'\n",
      " 'M' 'B' 'M' 'M' 'B' 'M' 'M' 'M' 'B' 'B' 'B' 'M' 'M' 'B' 'B' 'B' 'M' 'B'\n",
      " 'B' 'B' 'M' 'B' 'M' 'B' 'B' 'B' 'B' 'B' 'M' 'B' 'B' 'B' 'B' 'M' 'B' 'M'\n",
      " 'M' 'M' 'B' 'B' 'B' 'B' 'B' 'M' 'B' 'B' 'B' 'M' 'B' 'B' 'M' 'M' 'M' 'M'\n",
      " 'B' 'B' 'M' 'B' 'B' 'B' 'M' 'B' 'B' 'B' 'B' 'B' 'M' 'B' 'M' 'M' 'B' 'B'\n",
      " 'M' 'B' 'M' 'M' 'M' 'M' 'B' 'B' 'M' 'M' 'B' 'M' 'M' 'B' 'M' 'B' 'M' 'M'\n",
      " 'M' 'B' 'B' 'M' 'B' 'B' 'M' 'B' 'B' 'M' 'B' 'B' 'B' 'B' 'B' 'B' 'B' 'M'\n",
      " 'M' 'B' 'B' 'M' 'B' 'M' 'M' 'B' 'B' 'B' 'M' 'B' 'B' 'B' 'B' 'B' 'M' 'M'\n",
      " 'B' 'B' 'M' 'M' 'B' 'M' 'B' 'B' 'M' 'B' 'M' 'B' 'B' 'M' 'M' 'M' 'B' 'M'\n",
      " 'M' 'B' 'B' 'M' 'M' 'M' 'B' 'M' 'B' 'M' 'B' 'B' 'B' 'M' 'B' 'M' 'B' 'B'\n",
      " 'B' 'B' 'M' 'B' 'M' 'B' 'M' 'B' 'B' 'M' 'B' 'B' 'M' 'B' 'M' 'B' 'B' 'B'\n",
      " 'B' 'B' 'M' 'B' 'M' 'B' 'B' 'M' 'B' 'B' 'B' 'M' 'B' 'M' 'B']\n"
     ]
    }
   ],
   "source": [
    "# we halen de waardes van de diagnoses op\n",
    "trainingY = trainingDiagnoses.values\n",
    "validatieY = validatieDiagnoses.values\n",
    "testY = testDiagnoses.values\n",
    "\n",
    "print(trainingY)"
   ]
  },
  {
   "cell_type": "code",
   "execution_count": 28,
   "metadata": {},
   "outputs": [
    {
     "name": "stdout",
     "output_type": "stream",
     "text": [
      "['B' 'B' 'B' 'B' 'M' 'B' 'B' 'B' 'M' 'B' 'M' 'B' 'M' 'B' 'B' 'B' 'M' 'B'\n",
      " 'M' 'B' 'B' 'B' 'B' 'M' 'B' 'B' 'B' 'B' 'B' 'M' 'M' 'B' 'M' 'B' 'M' 'B'\n",
      " 'B' 'B' 'B' 'M' 'B' 'B' 'B' 'B' 'B' 'M' 'B' 'B' 'M' 'B' 'M' 'B' 'B' 'B'\n",
      " 'B' 'B' 'M' 'B' 'B' 'M' 'B' 'M' 'B' 'M' 'B' 'B' 'B' 'B' 'M' 'M' 'B' 'B'\n",
      " 'M' 'B' 'M' 'B' 'B' 'B' 'M' 'B' 'B' 'B' 'B' 'B' 'M' 'B' 'M' 'M' 'B' 'B'\n",
      " 'B' 'M' 'B' 'B' 'M' 'M' 'M' 'B' 'M' 'B' 'B' 'M' 'B' 'B' 'B' 'B' 'B' 'B'\n",
      " 'M' 'B' 'M' 'M' 'B' 'B' 'B' 'B' 'B' 'B' 'B' 'B' 'M' 'M' 'B' 'M' 'M' 'B'\n",
      " 'B' 'B' 'M' 'B' 'B' 'B' 'B' 'B' 'M' 'M' 'M' 'B' 'B' 'M' 'B']\n"
     ]
    }
   ],
   "source": [
    "# Dit is de classifier of classificator\n",
    "# We gebruiken de kernel trick om de data te kunnen scheiden\n",
    "# In dit geval gebruiken we een lineaire kernel\n",
    "clf = svm.SVC(kernel='linear')\n",
    "\n",
    "# We trainen de classifier met de training data\n",
    "clf.fit(trainingX,trainingY)\n",
    "\n",
    "# We voorspellen de diagnoses van de validatie data\n",
    "validatieVoorspellingen = clf.predict(validatieX)\n",
    "\n",
    "print(validatieVoorspellingen)"
   ]
  },
  {
   "cell_type": "code",
   "execution_count": 29,
   "metadata": {},
   "outputs": [
    {
     "name": "stdout",
     "output_type": "stream",
     "text": [
      "De accuraatheid van de voorspellingen is 92.20%\n"
     ]
    }
   ],
   "source": [
    "# we berekenen de accuraatheid van de voorspellingen\n",
    "accuraatheid = metrics.accuracy_score(validatieY, validatieVoorspellingen)\n",
    "print(f\"De accuraatheid van de voorspellingen is {accuraatheid*100:.2f}%\")"
   ]
  },
  {
   "cell_type": "markdown",
   "metadata": {},
   "source": [
    "### Validatiegegevens gebruiken om de 3 meta-parameters te bepalen."
   ]
  },
  {
   "cell_type": "markdown",
   "metadata": {},
   "source": [
    "#### C-term<br>\n",
    "De C-term staat voor de __foutentoleratie__ van het model.<br><br>\n",
    "*Kleine waarden voor C:* <br>\n",
    "Wanneer C klein is, laat het model meer fouten toe, waardoor de beslissingsgrens eenvoudiger wordt.<br><br>\n",
    "*Grote waarden voor C:* <br>\n",
    "Wanneer C groot is, laat het model een laag aantal fouten toe, waardoor de beslissingsgrens complexer wordt.<br>"
   ]
  },
  {
   "cell_type": "code",
   "execution_count": 30,
   "metadata": {},
   "outputs": [
    {
     "name": "stdout",
     "output_type": "stream",
     "text": [
      "De accuraatheid van de voorspellingen op de validatiedata is 92.19858% met C=1\n",
      "De accuraatheid van de voorspellingen op de validatiedata is 95.03546% met C=2\n",
      "De accuraatheid van de voorspellingen op de validatiedata is 95.03546% met C=3\n",
      "De accuraatheid van de voorspellingen op de validatiedata is 95.03546% met C=4\n",
      "De accuraatheid van de voorspellingen op de validatiedata is 95.03546% met C=5\n",
      "De accuraatheid van de voorspellingen op de validatiedata is 95.03546% met C=6\n",
      "De accuraatheid van de voorspellingen op de validatiedata is 95.03546% met C=7\n",
      "De accuraatheid van de voorspellingen op de validatiedata is 94.32624% met C=8\n",
      "De accuraatheid van de voorspellingen op de validatiedata is 94.32624% met C=9\n",
      "\n",
      "De optimale waarde voor C is 2 met een accuraatheid van 95.04%\n"
     ]
    }
   ],
   "source": [
    "# De C-term is een metaparameter en staat voor de foutentoleratie van het model.\n",
    "mogelijkeCs = [c for c in range(1, 10)]\n",
    "\n",
    "hoogsteAccuraatheid = 0\n",
    "cOpt = 0\n",
    "\n",
    "# Overloop verschillende waarden voor C\n",
    "for C in mogelijkeCs:\n",
    "\n",
    "    clf = svm.SVC(kernel='linear', C=C)\n",
    "    clf.fit(trainingX, trainingY)\n",
    "    validatieVoorspellingen = clf.predict(validatieX)\n",
    "    accuraatheid = metrics.accuracy_score(validatieY, validatieVoorspellingen)\n",
    "\n",
    "    print(f\"De accuraatheid van de voorspellingen op de validatiedata is {accuraatheid*100:.5f}% met C={C}\")\n",
    "\n",
    "    if accuraatheid > hoogsteAccuraatheid:\n",
    "        hoogsteAccuraatheid = accuraatheid\n",
    "        cOpt = C\n",
    "\n",
    "print(f\"\\nDe optimale waarde voor C is {cOpt} met een accuraatheid van {hoogsteAccuraatheid*100:.2f}%\")"
   ]
  },
  {
   "cell_type": "markdown",
   "metadata": {},
   "source": [
    "#### Kernel<br>\n",
    "De kernel zegt het model welke 'trick' het het moet gebruiken om de data te scheiden."
   ]
  },
  {
   "cell_type": "code",
   "execution_count": 31,
   "metadata": {},
   "outputs": [
    {
     "name": "stdout",
     "output_type": "stream",
     "text": [
      "De accuraatheid van de voorspellingen op de validatiedata is 95.03546% met de kernel 'linear' en C=2\n",
      "De accuraatheid van de voorspellingen op de validatiedata is 87.23404% met de kernel 'poly' en C=2\n",
      "De accuraatheid van de voorspellingen op de validatiedata is 90.07092% met de kernel 'rbf' en C=2\n",
      "De accuraatheid van de voorspellingen op de validatiedata is 42.55319% met de kernel 'sigmoid' en C=2\n",
      "\n",
      "De optimale kernel is 'linear' met een accuraatheid van 95.04% voor C=2\n"
     ]
    }
   ],
   "source": [
    "# De kernel zegt het model welke 'trick' het het moet gebruiken om de data te scheiden.\n",
    "mogelijkeKernels = ['linear', 'poly', 'rbf', 'sigmoid']\n",
    "\n",
    "optKernel = \"\"\n",
    "hoogsteAccuraatheid = 0\n",
    "\n",
    "for kernel in mogelijkeKernels:\n",
    "\n",
    "    clf = svm.SVC(kernel=kernel, C=cOpt)\n",
    "    clf.fit(trainingX, trainingY)\n",
    "    validatieVoorspellingen = clf.predict(validatieX)\n",
    "    accuraatheid = metrics.accuracy_score(validatieY, validatieVoorspellingen)\n",
    "\n",
    "    print(f\"De accuraatheid van de voorspellingen op de validatiedata is {accuraatheid*100:.5f}% met de kernel '{kernel}' en C={cOpt}\")\n",
    "\n",
    "    if accuraatheid > hoogsteAccuraatheid:\n",
    "        hoogsteAccuraatheid = accuraatheid\n",
    "        optKernel = kernel\n",
    "\n",
    "print(f\"\\nDe optimale kernel is '{optKernel}' met een accuraatheid van {hoogsteAccuraatheid*100:.2f}% voor C={cOpt}\")"
   ]
  },
  {
   "cell_type": "markdown",
   "metadata": {},
   "source": [
    "#### Gamma<br>\n",
    "De $\\gamma$ staat voor de __foutentoleratie__ van het model.<br><br>\n",
    "*Kleine waarden voor $\\gamma$:* <br>\n",
    "Een te lage gamma-waarde kan leiden tot _overgeneralisatie_, waarbij de beslissingsgrens te eenvoudig is en het model niet goed presteert op de trainingsgegevens.<br><br>\n",
    "*Grote waarden voor $\\gamma$:* <br>\n",
    "Een te hoge gamma-waarde kan leiden tot _overfitting_, waarbij het model de trainingsgegevens te nauw volgt en dus niet goed zal presteren op nog niet eerder geziene gegevens.<br>"
   ]
  },
  {
   "cell_type": "code",
   "execution_count": 32,
   "metadata": {},
   "outputs": [
    {
     "name": "stdout",
     "output_type": "stream",
     "text": [
      "De accuraatheid van de voorspellingen op de validatiedata is 95.03546% met gamma=1, de kernel 'linear' en C=2\n",
      "De accuraatheid van de voorspellingen op de validatiedata is 95.03546% met gamma=2, de kernel 'linear' en C=2\n",
      "De accuraatheid van de voorspellingen op de validatiedata is 95.03546% met gamma=3, de kernel 'linear' en C=2\n",
      "De accuraatheid van de voorspellingen op de validatiedata is 95.03546% met gamma=4, de kernel 'linear' en C=2\n",
      "De accuraatheid van de voorspellingen op de validatiedata is 95.03546% met gamma=5, de kernel 'linear' en C=2\n",
      "De accuraatheid van de voorspellingen op de validatiedata is 95.03546% met gamma=6, de kernel 'linear' en C=2\n",
      "De accuraatheid van de voorspellingen op de validatiedata is 95.03546% met gamma=7, de kernel 'linear' en C=2\n",
      "De accuraatheid van de voorspellingen op de validatiedata is 95.03546% met gamma=8, de kernel 'linear' en C=2\n",
      "De accuraatheid van de voorspellingen op de validatiedata is 95.03546% met gamma=9, de kernel 'linear' en C=2\n",
      "\n",
      "De optimale waarde voor gamma is 1 met een accuraatheid van 95.04% voor de kernel 'linear' en C=2\n"
     ]
    }
   ],
   "source": [
    "# De C-term is een metaparameter en staat voor de foutentoleratie van het model.\n",
    "mogelijkeGammas = [gamma for gamma in range(1, 10)]\n",
    "\n",
    "hoogsteAccuraatheid = 0\n",
    "gammaOpt = 0\n",
    "\n",
    "# Overloop verschillende waarden voor C\n",
    "for gamma in mogelijkeGammas:\n",
    "\n",
    "    clf = svm.SVC(kernel=optKernel, C=cOpt, gamma=gamma)\n",
    "    clf.fit(trainingX, trainingY)\n",
    "    validatieVoorspellingen = clf.predict(validatieX)\n",
    "    accuraatheid = metrics.accuracy_score(validatieY, validatieVoorspellingen)\n",
    "\n",
    "    print(f\"De accuraatheid van de voorspellingen op de validatiedata is {accuraatheid*100:.5f}% met gamma={gamma}, de kernel '{optKernel}' en C={cOpt}\")\n",
    "\n",
    "    if accuraatheid > hoogsteAccuraatheid:\n",
    "        hoogsteAccuraatheid = accuraatheid\n",
    "        gammaOpt = gamma\n",
    "\n",
    "print(f\"\\nDe optimale waarde voor gamma is {gammaOpt} met een accuraatheid van {hoogsteAccuraatheid*100:.2f}% voor de kernel '{optKernel}' en C={cOpt}\")"
   ]
  },
  {
   "cell_type": "markdown",
   "metadata": {},
   "source": [
    "### Toepassen op de testdata"
   ]
  },
  {
   "cell_type": "code",
   "execution_count": 33,
   "metadata": {},
   "outputs": [
    {
     "name": "stdout",
     "output_type": "stream",
     "text": [
      "De accuraatheid van de voorspellingen op de testdata is 95.80% voor de kernel 'linear', C=2 en gamma=1\n"
     ]
    }
   ],
   "source": [
    "clf = svm.SVC(kernel=optKernel, C=cOpt, gamma=gammaOpt)\n",
    "clf.fit(trainingX, trainingY)\n",
    "testVoorspellingen = clf.predict(testX)\n",
    "accuraatheid = metrics.accuracy_score(testY, testVoorspellingen)\n",
    "\n",
    "print(f\"De accuraatheid van de voorspellingen op de testdata is {accuraatheid*100:.2f}% voor de kernel '{optKernel}', C={cOpt} en gamma={gammaOpt}\")"
   ]
  }
 ],
 "metadata": {
  "kernelspec": {
   "display_name": "base",
   "language": "python",
   "name": "python3"
  },
  "language_info": {
   "codemirror_mode": {
    "name": "ipython",
    "version": 3
   },
   "file_extension": ".py",
   "mimetype": "text/x-python",
   "name": "python",
   "nbconvert_exporter": "python",
   "pygments_lexer": "ipython3",
   "version": "3.11.4"
  }
 },
 "nbformat": 4,
 "nbformat_minor": 2
}
