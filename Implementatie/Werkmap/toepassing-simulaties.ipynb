{
 "cells": [
  {
   "cell_type": "markdown",
   "metadata": {},
   "source": [
    "# Support Vector Machines - team Euler"
   ]
  },
  {
   "cell_type": "markdown",
   "metadata": {},
   "source": [
    "Support Vector Machines is een vorm van supervised learning. We hebben een we een dataset, waarbij elk punt $p$ features heeft en tot één van twee verschillende groepen behoort. We zullen deze ML techniek gebruiken om aan classificatie te doen, zodat we het getrainde SVM-model kunnen toepassen op andere (test)datasets, om zo te voorspellen of de punten van deze datasets (ook met $p$ features) tot de ene of tot de andere groep behoren."
   ]
  },
  {
   "cell_type": "code",
   "execution_count": 677,
   "metadata": {},
   "outputs": [],
   "source": [
    "from toepassing_procedures import *\n",
    "import numpy as np\n",
    "# data inladen\n",
    "import pandas as pd\n",
    "from pandas import read_csv\n",
    "# data opsplitsen in trainings-, validatie- en testset\n",
    "from sklearn.model_selection import train_test_split\n",
    "# grafieken\n",
    "from matplotlib import pyplot as plt\n",
    "from matplotlib import rc"
   ]
  },
  {
   "cell_type": "markdown",
   "metadata": {},
   "source": [
    "Met SVM zullen we de datapunten onderverdelen in twee groepen door ze te scheiden met een $(p-1)$-dimensioneel _hyperplane_. Aangezien we hogere dimensies niet kunnen visualiseren, zullen we hier werken met een dataset waarbij elk punt 2 features heeft. We zullen vervolgens lineaire classificatie doen om de dataset onder te verdelen in twee groepen."
   ]
  },
  {
   "cell_type": "markdown",
   "metadata": {},
   "source": [
    "Elk punt heeft 2 features, $x_1$ en $x_2$ en een $y$, de classificatie van -1 of 1."
   ]
  },
  {
   "cell_type": "markdown",
   "metadata": {},
   "source": [
    "We construeren twee hypervlakken die de twee gegevensklassen scheiden, zodat de afstand daartussen zo groot mogelijk is. Het gebied dat wordt begrensd door deze twee hypervlakken wordt de \"marge\" genoemd, en het hypervlak ertussen noemen we de beslissingsgrens. We willen de marge zo groot mogelijk maken."
   ]
  },
  {
   "cell_type": "markdown",
   "metadata": {},
   "source": [
    "De vergelijkingen van die rechten kunnen geschreven worden als $w^Tx-b=1$ (1) en $w^Tx-b=-1$ (2). Alle punten op of boven grens (1) worden geclassificeerd als behorend tot de ene klasse ($y=1$). Alle punten onder of op grens (2) worden geclassificeerd als behorend tot de andere klasse ($y=-1$)."
   ]
  },
  {
   "cell_type": "markdown",
   "metadata": {},
   "source": [
    "De breedte van de marge is $\\frac{2}{||\\vec{w}||}$. Om de breedte van de marge te maximaliseren, zullen we $||\\vec{w}||$ dus minimaliseren."
   ]
  },
  {
   "cell_type": "markdown",
   "metadata": {},
   "source": [
    "We willen de marge tussen de datapunten en het hyperplane zo groot mogelijk maken, maar we willen ook de fouten beperken. We voeren _hinge loss_ in met bijhorende formule $\\max{[0,1-y_i(\\vec{w}\\cdot\\vec{x}_i-b)]}$ We hebben nu twee mogelijkheden:\n",
    "\n",
    "1. $y_i(\\vec{w}\\cdot\\vec{x}_i-b)\\ge1$:\n",
    "Het punt werd correct geclassificeerd en ligt aan de juiste kant van de beslissingslijn, buiten de marge. De hinge loss is in dit geval 0.\n",
    "\n",
    "2. Het punt ligt in de marge of aan de verkeerde kant van de belissingslijn. Indien het datapunt binnen de marge ligt, zal de hinge loss tussen 0 en 1 liggen. Het punt wordt dan niet heel _confidently_ geclassificeerd, maar we willen het ook niet te hard bestraffen. Indien een datapunt buiten de marge, maar aan de verkeerde kant van de beslissingslijn ligt, zal de hinge loss groter dan 1 zijn. We willen het model wel hard bestraffen, want zo'n fouten willen we miniem houden. De hinge loss wordt dan $1 - y_i(\\vec{w}\\cdot\\vec{x}_i - b)$."
   ]
  },
  {
   "cell_type": "markdown",
   "metadata": {},
   "source": [
    "Om nu de SVM te trainen, moeten we het minimalisatieprobleem $\\min_{w, b}J$ = $\\min_{w, b}\\left[\\frac{1}{n}\\sum_{i=1}^n{\\max{[0,1-y_i(\\vec{w}\\cdot\\vec{x}_i-b)]}} + \\lambda\\cdot{||\\vec{w}||}^2\\right]$ oplossen. We noemen $J$ de kostfunctie."
   ]
  },
  {
   "cell_type": "markdown",
   "metadata": {},
   "source": [
    "Hierbij is $\\frac{1}{n}\\sum_{i=1}^n{\\max{[0,1-y_i(\\vec{w}\\cdot\\vec{x}_i-b)]}}$ de gemiddelde hinge loss, dus de gemiddelde fout die wordt toegekend."
   ]
  },
  {
   "cell_type": "markdown",
   "metadata": {},
   "source": [
    "De tweede term $\\lambda\\cdot{||\\vec{w}||}^2$ regelt het evenwicht tussen het minimaliseren van de fouten op de trainingsdata en het maximaliseren van de marge. \n",
    "- Kleine $\\lambda$ (kan ook 0 zijn): het berekenen van een minimale kostfunctie $J$ komt neer op het op nul zetten van zo veel mogelijke hinge losses. Dit resulteert in een kleine marge.\n",
    "- Grote $\\lambda$: er ligt meer nadruk op het minimaliseren van de grootte van $||\\vec{w}||$ en de hinge loss speelt een minder grote rol. Hoe kleiner $||\\vec{w}||$, hoe groter de marge want de marge is $\\frac{2}{||\\vec{w}||}$ breed. Een grote $\\lambda$ resulteert dus in een grotere marge."
   ]
  },
  {
   "cell_type": "markdown",
   "metadata": {},
   "source": [
    "De kostfunctie $J_i$ voor een enkel datapunt in _geval 1_ is dan $\\lambda\\cdot{||\\vec{w}||}^2$. <br>\n",
    "Dus geldt $\\frac{d}{dw}(J_i)=2\\lambda w$ en $\\frac{d}{db}(J_i)=0$<br><br>\n",
    "\n",
    "\n",
    "De kostfunctie $J_i$ voor een enkel datapunt in _geval 2_ is $1-y_i(\\vec{w}\\cdot\\vec{x}_i-b) + \\lambda\\cdot{||\\vec{w}||}^2$. <br>\n",
    "Dus geldt $\\frac{d}{dw}(J_i)=2\\lambda w-y_i\\cdot x_i$ en $\\frac{d}{db}(J_i)=y_i$"
   ]
  },
  {
   "cell_type": "markdown",
   "metadata": {},
   "source": [
    "We kunnen na het bovenstaande de variabelen `w` en `b` aanpassen in onze code zodat `w-=leerTempo*(2*lambda*w)` indien we in geval (1) zitten. In geval twee moeten we zowel w als b aanpassen, zodat `w-=leerTempo*(2*lambda*w-x_i-y_i)` en `b-=leerTempo*y`"
   ]
  },
  {
   "cell_type": "markdown",
   "metadata": {},
   "source": [
    "### Toegepast op twee lineair scheidbare 'wolken' datapunten"
   ]
  },
  {
   "cell_type": "code",
   "execution_count": 678,
   "metadata": {},
   "outputs": [
    {
     "name": "stdout",
     "output_type": "stream",
     "text": [
      "Aantal training samples:  15\n",
      "Aantal validatie samples:  7\n",
      "Aantal test samples:  8\n"
     ]
    }
   ],
   "source": [
    "# maak twee lineair scheidbare clusters\n",
    "# de y-waarde voor elk punt (met twee features) is 0 of 1\n",
    "# voeg ook een outlier toe\n",
    "X, y = datasets.make_blobs(\n",
    "    n_samples=30, n_features=2, centers=2, cluster_std=2\n",
    ")\n",
    "\n",
    "# verander de y-waarden die 0 zijn in -1\n",
    "y = np.where(y == 0, -1, 1)\n",
    "\n",
    "# verander een willekeurige y-waarde van 1 naar -1\n",
    "random_index = np.random.randint(0, len(y))\n",
    "if y[random_index] == 1:\n",
    "    y[random_index] = -1\n",
    "else:\n",
    "    y[random_index] = 1\n",
    "\n",
    "# verdeel de data in 50% training, 25% validatie en 25% test\n",
    "trainingX, testX, trainingY, testY = train_test_split(X, y, test_size=0.5)\n",
    "validatieX, testX, validatieY, testY = train_test_split(testX, testY, test_size=0.5)\n",
    "\n",
    "print(\"Aantal training samples: \", len(trainingX))\n",
    "print(\"Aantal validatie samples: \", len(validatieX))\n",
    "print(\"Aantal test samples: \", len(testX))"
   ]
  },
  {
   "cell_type": "code",
   "execution_count": 679,
   "metadata": {},
   "outputs": [
    {
     "name": "stdout",
     "output_type": "stream",
     "text": [
      "[[ 8.49562589 -2.39801833]\n",
      " [ 6.62630714  0.57112239]\n",
      " [ 6.52330403 -1.61805983]\n",
      " [ 6.95364551  4.86097724]\n",
      " [11.06830318  1.32876286]\n",
      " [ 3.3057658  -3.1162286 ]\n",
      " [ 1.18997837 -7.80406921]\n",
      " [ 7.88689932 -0.98423582]\n",
      " [ 6.27241197 -1.74087653]\n",
      " [ 2.56072856 -8.16334361]\n",
      " [ 0.42784034 -5.72682048]\n",
      " [ 2.80127601 -7.68560074]\n",
      " [ 3.74335476 -5.42582119]\n",
      " [ 2.11146261 -5.17476797]\n",
      " [ 6.88880081 -2.15191708]]\n",
      "[ 1  1  1  1  1 -1 -1  1  1 -1 -1 -1 -1 -1  0]\n"
     ]
    }
   ],
   "source": [
    "print(trainingX)\n",
    "print(trainingY)"
   ]
  },
  {
   "cell_type": "code",
   "execution_count": 680,
   "metadata": {},
   "outputs": [
    {
     "name": "stdout",
     "output_type": "stream",
     "text": [
      "De supportvector w is [0.38904459 0.61819755] en b is 0.36300000000000027\n"
     ]
    }
   ],
   "source": [
    "leerTempo = 0.001\n",
    "lambdaParam = 0.01\n",
    "aantalIteraties = 10000\n",
    "\n",
    "w, b = fit(trainingX, trainingY, leerTempo, lambdaParam, aantalIteraties)\n",
    "\n",
    "print(f\"De supportvector w is {w} en b is {b}\")"
   ]
  },
  {
   "cell_type": "code",
   "execution_count": 681,
   "metadata": {},
   "outputs": [
    {
     "data": {
      "image/png": "[encoded data removed]",
      "text/plain": [
       "<Figure size 1000x700 with 1 Axes>"
      ]
     },
     "metadata": {},
     "output_type": "display_data"
    }
   ],
   "source": [
    "voorsp = voorspelling(trainingX, w, b)\n",
    "\n",
    "truePositives = [trainingX[i] for i in range(len(trainingX)) if voorsp[i] == 1 and trainingY[i] == 1]\n",
    "falsePositives = [trainingX[i] for i in range(len(trainingX)) if voorsp[i] == 1 and trainingY[i] == -1]\n",
    "trueNegatives = [trainingX[i] for i in range(len(trainingX)) if voorsp[i] == -1 and trainingY[i] == -1]\n",
    "falseNegatives = [trainingX[i] for i in range(len(trainingX)) if voorsp[i] == -1 and trainingY[i] == 1]\n",
    "\n",
    "fig = plt.figure(figsize=(10, 7))\n",
    "plt.rcParams['text.usetex'] = True\n",
    "\n",
    "rc('font',**{'family':'sans-serif','sans-serif':['Helvetica']})\n",
    "## for Palatino and other serif fonts use:\n",
    "#rc('font',**{'family':'serif','serif':['Palatino']})\n",
    "rc('text', usetex=True)\n",
    "\n",
    "ax = fig.add_subplot(1, 1, 1)\n",
    "\n",
    "plt.scatter([p[0] for p in truePositives], [p[1] for p in truePositives], marker=\"o\", c=\"g\")\n",
    "plt.scatter([p[0] for p in falsePositives], [p[1] for p in falsePositives], marker=\"x\", c=\"r\")\n",
    "plt.scatter([p[0] for p in trueNegatives], [p[1] for p in trueNegatives], marker=\"o\", c=\"r\")\n",
    "plt.scatter([p[0] for p in falseNegatives], [p[1] for p in falseNegatives], marker=\"x\", c=\"g\")\n",
    "\n",
    "x0_1 = min(trainingX[:, 0])\n",
    "x0_2 = max(trainingX[:, 0])\n",
    "\n",
    "x1_1 = hyperplaneFunctie(x0_1, w, b, 0)\n",
    "x1_2 = hyperplaneFunctie(x0_2, w, b, 0)\n",
    "\n",
    "x1_1_m = hyperplaneFunctie(x0_1, w, b, -1)\n",
    "x1_2_m = hyperplaneFunctie(x0_2, w, b, -1)\n",
    "\n",
    "x1_1_p = hyperplaneFunctie(x0_1, w, b, 1)\n",
    "x1_2_p = hyperplaneFunctie(x0_2, w, b, 1)\n",
    "\n",
    "ax.set_xlabel(\"$x_1$\")\n",
    "ax.set_ylabel(\"$x_2$\")\n",
    "\n",
    "\n",
    "ax.plot([x0_1, x0_2], [x1_1_m, x1_2_m], \"k--\", label=r'\"Positief\" hypervlak met vergelijking \\(\\vec{w} \\cdot \\vec{x} - b = 1\\)')\n",
    "ax.plot([x0_1, x0_2], [x1_1, x1_2], \"k\", label=\"Beslissingsgrens\")\n",
    "ax.plot([x0_1, x0_2], [x1_1_p, x1_2_p], \"k--\", label=r'\"Negatief\" hypervlak met vergelijking \\(\\vec{w} \\cdot \\vec{x} - b = -1\\)')\n",
    "# ax.scatter([0,0],[0,0], marker=\"o\", c=\"w\", label=\"Support Vectors\", edgecolors=\"b\")\n",
    "ax.scatter([0,0],[0,0], marker=\"o\", c=\"w\", label=\"Outlier\", edgecolors=\"b\")\n",
    "\n",
    "x1_min = np.amin(trainingX[:, 1])\n",
    "x1_max = np.amax(trainingX[:, 1])\n",
    "ax.set_ylim([x1_min - 3, x1_max + 3])\n",
    "\n",
    "plt.legend()\n",
    "plt.savefig(\"metoutlier.pdf\")\n",
    "plt.show()"
   ]
  },
  {
   "cell_type": "markdown",
   "metadata": {},
   "source": [
    "### Toegepast op de tumordata"
   ]
  },
  {
   "cell_type": "code",
   "execution_count": 682,
   "metadata": {},
   "outputs": [],
   "source": [
    "# # We laden de data\n",
    "# gegevens = read_csv(\"data.csv\").sample(n=30)\n",
    "\n",
    "# rand = np.random.randint(0, 28)\n",
    "\n",
    "# featureIndices = [2, 3]\n",
    "\n",
    "# # We selecteren de kolommen met de features (x-waarden)\n",
    "# trainingFeatures = gegevens.iloc[:, featureIndices]\n",
    "# # We selecteren de kolom met de diagnoses (y-waarden)\n",
    "# trainingDiagnoses = gegevens.iloc[:, 1]\n",
    "\n",
    "# feature1 = trainingFeatures.columns[0]\n",
    "# feature2 = trainingFeatures.columns[1]\n",
    "\n",
    "# print(f\"Naam feature 1: {trainingFeatures.columns[0]}\")\n",
    "# print(f\"Naam feature 2: {trainingFeatures.columns[1]}\")\n",
    "\n",
    "# trainingX = trainingFeatures.values\n",
    "# trainingY = [1 if diagnose == \"B\" else -1 for diagnose in trainingDiagnoses.values]"
   ]
  },
  {
   "cell_type": "code",
   "execution_count": 683,
   "metadata": {},
   "outputs": [
    {
     "name": "stdout",
     "output_type": "stream",
     "text": [
      "[[ 8.49562589 -2.39801833]\n",
      " [ 6.62630714  0.57112239]\n",
      " [ 6.52330403 -1.61805983]\n",
      " [ 6.95364551  4.86097724]\n",
      " [11.06830318  1.32876286]\n",
      " [ 3.3057658  -3.1162286 ]\n",
      " [ 1.18997837 -7.80406921]\n",
      " [ 7.88689932 -0.98423582]\n",
      " [ 6.27241197 -1.74087653]\n",
      " [ 2.56072856 -8.16334361]\n",
      " [ 0.42784034 -5.72682048]\n",
      " [ 2.80127601 -7.68560074]\n",
      " [ 3.74335476 -5.42582119]\n",
      " [ 2.11146261 -5.17476797]\n",
      " [ 6.88880081 -2.15191708]]\n",
      "[ 1  1  1  1  1 -1 -1  1  1 -1 -1 -1 -1 -1  0]\n"
     ]
    }
   ],
   "source": [
    "print(trainingX)\n",
    "print(trainingY)"
   ]
  },
  {
   "cell_type": "code",
   "execution_count": 684,
   "metadata": {},
   "outputs": [],
   "source": [
    "# leerTempo = 0.001\n",
    "# aantalIteraties = 1000\n",
    "\n",
    "# lambdaParams = [0.01, 0.1, 1, 10]\n",
    "\n",
    "# plt.figure(figsize=(12, 12))\n",
    "\n",
    "# rc('font',**{'family':'sans-serif','sans-serif':['Helvetica']})\n",
    "# ## for Palatino and other serif fonts use:\n",
    "# #rc('font',**{'family':'serif','serif':['Palatino']})\n",
    "# rc('text', usetex=True)\n",
    "\n",
    "# x0_1 = min(trainingX[:, 0])\n",
    "# x0_2 = max(trainingX[:, 0])\n",
    "\n",
    "# x1_min = min(trainingX[:, 1])\n",
    "# x1_max = max(trainingX[:, 1])\n",
    "\n",
    "# for i, lambdaParam in enumerate(lambdaParams):\n",
    "\n",
    "#     ax = plt.subplot(2, 2, i + 1)\n",
    "#     ax.set_title(f\"$\\lambda = {lambdaParam}$\")\n",
    "\n",
    "#     ax.set_xlabel(\"Gemiddelde radius\")\n",
    "#     ax.set_ylabel('Gemiddelde textuur')\n",
    "\n",
    "#     w, b = fit(trainingX, trainingY, leerTempo, lambdaParam, aantalIteraties)\n",
    "\n",
    "#     voorsp = voorspelling(trainingX, w, b)\n",
    "\n",
    "#     truePositive = [trainingX[i] for i in range(len(trainingX)) if voorsp[i] == 1 and trainingY[i] == 1]\n",
    "#     falsePositive = [trainingX[i] for i in range(len(trainingX)) if voorsp[i] == 1 and trainingY[i] == -1]\n",
    "#     trueNegative = [trainingX[i] for i in range(len(trainingX)) if voorsp[i] == -1 and trainingY[i] == -1]\n",
    "#     falseNegative = [trainingX[i] for i in range(len(trainingX)) if voorsp[i] == -1 and trainingY[i] == 1]\n",
    "\n",
    "#     ax.scatter([p[0] for p in truePositive], [p[1] for p in truePositive], marker=\"o\", c=\"g\")\n",
    "#     ax.scatter([p[0] for p in falsePositive], [p[1] for p in falsePositive], marker=\"x\", c=\"r\")\n",
    "#     ax.scatter([p[0] for p in trueNegative], [p[1] for p in trueNegative], marker=\"o\", c=\"r\")\n",
    "#     ax.scatter([p[0] for p in falseNegative], [p[1] for p in falseNegative], marker=\"x\", c=\"g\")\n",
    "\n",
    "#     x1_1 = hyperplaneFunctie(x0_1, w, b, 0)\n",
    "#     x1_2 = hyperplaneFunctie(x0_2, w, b, 0)\n",
    "\n",
    "#     x1_1_m = hyperplaneFunctie(x0_1, w, b, -1)\n",
    "#     x1_2_m = hyperplaneFunctie(x0_2, w, b, -1)\n",
    "\n",
    "#     x1_1_p = hyperplaneFunctie(x0_1, w, b, 1)\n",
    "#     x1_2_p = hyperplaneFunctie(x0_2, w, b, 1)\n",
    "\n",
    "#     ax.plot([x0_1, x0_2], [x1_1, x1_2], \"k\")\n",
    "#     ax.plot([x0_1, x0_2], [x1_1_m, x1_2_m], \"k--\")\n",
    "#     ax.plot([x0_1, x0_2], [x1_1_p, x1_2_p], \"k--\")\n",
    "#     ax.set_ylim([x1_min - 3, x1_max + 3])\n",
    "\n",
    "# plt.savefig(\"svm2.pdf\")\n",
    "# plt.show()"
   ]
  }
 ],
 "metadata": {
  "kernelspec": {
   "display_name": "base",
   "language": "python",
   "name": "python3"
  },
  "language_info": {
   "codemirror_mode": {
    "name": "ipython",
    "version": 3
   },
   "file_extension": ".py",
   "mimetype": "text/x-python",
   "name": "python",
   "nbconvert_exporter": "python",
   "pygments_lexer": "ipython3",
   "version": "3.11.4"
  }
 },
 "nbformat": 4,
 "nbformat_minor": 2
}
