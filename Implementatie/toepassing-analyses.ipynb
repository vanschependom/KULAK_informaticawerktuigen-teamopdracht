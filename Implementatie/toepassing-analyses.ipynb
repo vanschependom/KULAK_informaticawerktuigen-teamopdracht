{
 "cells": [
  {
   "cell_type": "markdown",
   "metadata": {},
   "source": [
    "# Analyses toepassing - Support Vector Machines"
   ]
  },
  {
   "cell_type": "code",
   "execution_count": null,
   "metadata": {},
   "outputs": [],
   "source": [
    "from toepassing_procedures import *\n",
    "import numpy as np\n",
    "from matplotlib import pyplot as plt"
   ]
  }
 ],
 "metadata": {
  "language_info": {
   "name": "python"
  }
 },
 "nbformat": 4,
 "nbformat_minor": 2
}
