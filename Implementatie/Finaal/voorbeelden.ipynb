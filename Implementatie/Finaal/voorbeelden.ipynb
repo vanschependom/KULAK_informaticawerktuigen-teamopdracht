{
 "cells": [
  {
   "cell_type": "markdown",
   "metadata": {},
   "source": [
    "# Voorbeelden team Euler"
   ]
  },
  {
   "cell_type": "code",
   "execution_count": 1,
   "metadata": {},
   "outputs": [],
   "source": [
    "from procedures import *\n",
    "import matplotlib.pyplot as plt"
   ]
  },
  {
   "cell_type": "markdown",
   "metadata": {},
   "source": [
    "### De procedure `xsample(n,a,b)`"
   ]
  },
  {
   "cell_type": "markdown",
   "metadata": {},
   "source": [
    "Deze functie genereert een vector (ndarray) van lengte n met uniform verdeelde getallen tussen a en b."
   ]
  },
  {
   "cell_type": "code",
   "execution_count": 13,
   "metadata": {},
   "outputs": [
    {
     "name": "stdout",
     "output_type": "stream",
     "text": [
      "Vector X:\n",
      "[15.61732181 14.70932242  1.13333732  9.08850577 12.04974846  3.38409158\n",
      " 16.00811156  1.65975824 16.79066189  9.11059566 17.74500412 12.15014212\n",
      " 15.57599685 12.07484901 16.04181441 13.31894336  6.79928037 13.3015986\n",
      " 16.32194312 13.28527282 16.91964824  8.39421481  7.38106127  5.71781676\n",
      "  5.95357045  6.27401754 14.17996259 18.83007385 18.9259076   2.79410215]\n"
     ]
    }
   ],
   "source": [
    "# creëer een vector met 30 x-waarden tussen 0 en 20\n",
    "xVector = xsample(30,0,20)\n",
    "\n",
    "print(\"Vector X:\")\n",
    "print(xVector)"
   ]
  },
  {
   "cell_type": "markdown",
   "metadata": {},
   "source": [
    "### De procedure `ysample(x,f,e)`"
   ]
  },
  {
   "cell_type": "markdown",
   "metadata": {},
   "source": [
    "Deze functie genereert een vector (ndarray) van dezelfde lengte als vector x volgens de formule $y=f(x)+r$ met r normaal verdeelde getallen met gemiddelde nul en standaarddeviatie $e$."
   ]
  },
  {
   "cell_type": "code",
   "execution_count": 14,
   "metadata": {},
   "outputs": [
    {
     "name": "stdout",
     "output_type": "stream",
     "text": [
      "Vector Y:\n",
      "[259.69595176 196.77272149   3.98642182  92.93967697 150.07006586\n",
      "  -6.08877632 255.12978459 -18.92384764 288.38615289  53.12763891\n",
      " 292.76240668 174.77598051 270.73182997  85.53620125 298.84341568\n",
      " 155.53939442  82.88884539 172.14374678 256.35644487 170.00394916\n",
      " 336.70083756  82.22724097 -11.92282981  62.02138402  48.64517984\n",
      "  69.4778226  181.41004902 371.57938925 345.67660062 -22.59127696]\n"
     ]
    }
   ],
   "source": [
    "# een parabolische functie ter illustratie\n",
    "# we gaan ons op deze functie baseren om de datapunten te genereren\n",
    "# vervolgens gaan we aan de functiewaarden een error-term toevoegen\n",
    "def f(x):\n",
    "    return x**2\n",
    "\n",
    "# creëer een vector met 20 y-waarden zodat bij de functiewaarden van de parabolische functie een error-term epsilon wordt toegevoegd\n",
    "# deze epsilon-term is een random getal tussen -e en e en de error-termen hebben een gemiddelde van 0\n",
    "# hoe groter de epsilon (e), hoe groter de spreidin/afwijking van de punten rond de parabool\n",
    "# de gemiddelde afstand van alle punten tot de parabool blijft echter 0\n",
    "yVector = ysample(xVector, f, e=30)\n",
    "\n",
    "print(\"Vector Y:\")\n",
    "print(yVector)"
   ]
  },
  {
   "cell_type": "markdown",
   "metadata": {},
   "source": [
    "### De procedure `ols(y,x)`"
   ]
  },
  {
   "cell_type": "markdown",
   "metadata": {},
   "source": [
    "Deze functie berekent de Ordinary Least Squares (OLS) regressierechte bij gegeven vectoren y en x. De functie geeft een koppel (a,b) terug zodat $y = a*x + b$ de regressierechte is. Hierbij komt a overeen met $β_1$ en b met $β_0$ (zie pagina 71 van ISL, waar $y = β_1*x + β_0$)."
   ]
  },
  {
   "cell_type": "code",
   "execution_count": 4,
   "metadata": {},
   "outputs": [
    {
     "name": "stdout",
     "output_type": "stream",
     "text": [
      "19.311 is de helling van de OLS regressielijn (a = beta1)\n",
      "-51.623 is de intercept van de OLS regressielijn (b = beta0)\n",
      "\n",
      "Functievoorschrift schattingsfunctie:\t\t\t19.3112816766281*x - 51.6234088670137\n",
      "Voorspelde functiewaarde voor x=2 via OLS regressie:\t25.621717839498544\n",
      "Voorspelde functiewaarde voor x=10 via OLS regressie:\t238.04581628240726\n"
     ]
    }
   ],
   "source": [
    "# Benodigdheden: zie vorige sections\n",
    "xVector = xsample(30,0,20)\n",
    "def f(x):\n",
    "    return x**2\n",
    "yVector = ysample(xVector, f, e=30)\n",
    "\n",
    "# genereer een koppel (a,b)\n",
    "# dit komt eigenlijk overeen met een koppel (beta1, beta0)\n",
    "(a,b) = ols(yVector, xVector)\n",
    "\n",
    "# print de helling en de intercept op 3 decimalen nauwkeurig\n",
    "print(\"%.3f is de helling van de OLS regressielijn (a = beta1)\" % a)\n",
    "print(\"%.3f is de intercept van de OLS regressielijn (b = beta0)\" % b, end=\"\\n\\n\")\n",
    "\n",
    "# de functie f^ (f met een hoedje)\n",
    "def geschatteFunctie(x):\n",
    "    return a*x + b\n",
    "\n",
    "# druk het voorschrift van onze geschatte functie af\n",
    "import sympy as sp\n",
    "x = sp.symbols('x')\n",
    "print(f\"Functievoorschrift schattingsfunctie:\\t\\t\\t{geschatteFunctie(x)}\")\n",
    "\n",
    "# schat de functiewaarde van x=4 en x=15 op basis van onze geschatte functie\n",
    "print(f\"Voorspelde functiewaarde voor x=2 via OLS regressie:\\t{geschatteFunctie(4)}\")\n",
    "print(f\"Voorspelde functiewaarde voor x=10 via OLS regressie:\\t{geschatteFunctie(15)}\")"
   ]
  },
  {
   "cell_type": "markdown",
   "metadata": {},
   "source": [
    "### De procedure `knn(x0,y,x,k)`"
   ]
  },
  {
   "cell_type": "markdown",
   "metadata": {},
   "source": [
    "Deze functie berekent de voorspelling(en) in x0 volgens *__enkelvoudige__* KNN-regressie bij gegeven regressor x en respons y (ndarray)."
   ]
  },
  {
   "cell_type": "code",
   "execution_count": 17,
   "metadata": {},
   "outputs": [
    {
     "name": "stdout",
     "output_type": "stream",
     "text": [
      "Voorspelde functiewaarden voor x=4 en x=10 via KNN: [11.11377691 76.09818561]\n"
     ]
    }
   ],
   "source": [
    "# We voorspellen de y-waarden in de punten x=4 en x=10 op basis van de 3 dichtste buren.\n",
    "voorspeldeFunctiewaardenKnn = knn(np.array([4,10]),yVector,xVector,3)\n",
    "\n",
    "print(f\"Voorspelde functiewaarden voor x=4 en x=10 via KNN: {voorspeldeFunctiewaardenKnn}\")"
   ]
  },
  {
   "cell_type": "markdown",
   "metadata": {},
   "source": [
    "### De procedure `mknn(x0,y,x,k)`"
   ]
  },
  {
   "cell_type": "markdown",
   "metadata": {},
   "source": [
    "Deze functie berekent de voorspelling(en) in x0 volgens *__meervoudige__* KNN-regressie bij gegeven regressor x (matrix met punten met meerdere x-waarden) en respons y (ndarray)."
   ]
  },
  {
   "cell_type": "code",
   "execution_count": 18,
   "metadata": {},
   "outputs": [
    {
     "name": "stdout",
     "output_type": "stream",
     "text": [
      "Voorspellingen in de punten (1,2), (2,2) en (3,1) met meervoudige KNN-regressie:\n",
      "[7.22763176 7.22763176 7.59862689]\n"
     ]
    }
   ],
   "source": [
    "x1 = xsample(20, 0, 1)\n",
    "x2 = xsample(20, 0, 1)\n",
    "\n",
    "xMatrix = np.column_stack((x1, x2))\n",
    "x0Matrix = np.column_stack(([1, 2, 3], [3, 2, 1]))\n",
    "\n",
    "y = ysample(1+x1+x2, f)\n",
    "\n",
    "print(\"Voorspellingen in de punten (1,3), (2,2) en (3,1) met meervoudige KNN-regressie:\")\n",
    "print(mknn(x0Matrix, y, xMatrix, 3))"
   ]
  },
  {
   "cell_type": "markdown",
   "metadata": {},
   "source": [
    "### De procedure `mls(y,x)`"
   ]
  },
  {
   "cell_type": "markdown",
   "metadata": {},
   "source": [
    "Deze functie genereert een vector beta zodat $y=X*beta$ het kleinste kwadratenhypervlak is bij gegeven matrix X en responsvector Y (ndarray)."
   ]
  },
  {
   "cell_type": "code",
   "execution_count": 19,
   "metadata": {},
   "outputs": [
    {
     "name": "stdout",
     "output_type": "stream",
     "text": [
      "Beta: [ 1.65443511 -0.55060855  1.08798   ]\n"
     ]
    }
   ],
   "source": [
    "# x_i1\n",
    "xVector1 = xsample(20,0,1)\n",
    "# x_i2\n",
    "xVector2 = xsample(20,0,1)\n",
    "\n",
    "def f(x):\n",
    "    return x\n",
    "\n",
    "yVector = ysample(1+xVector1+xVector2,f)\n",
    "\n",
    "# we voegen een kolom met eentjes toe aan onze matrix\n",
    "xMatrix = np.column_stack((np.ones(len(xVector1)),xVector1, xVector2))\n",
    "\n",
    "beta = mls(yVector,xMatrix)\n",
    "print(f\"Beta: {beta}\")"
   ]
  },
  {
   "cell_type": "markdown",
   "metadata": {},
   "source": [
    "### De procedure `berekenKOpt(trainingX,trainingY,validatieX,validatieY,enkelvoudig)`"
   ]
  },
  {
   "cell_type": "markdown",
   "metadata": {},
   "source": [
    "Deze functie berekent de optimale K-waarde $K_{\\text{opt}}$ voor enkelvoudige en meervoudige KNN-regressie."
   ]
  },
  {
   "cell_type": "markdown",
   "metadata": {},
   "source": [
    "#### Enkelvoudige regressie"
   ]
  },
  {
   "cell_type": "markdown",
   "metadata": {},
   "source": [
    "Hierbij is de laatste parameter `enkelvoudig` gelijk aan `True`."
   ]
  },
  {
   "cell_type": "code",
   "execution_count": 20,
   "metadata": {},
   "outputs": [
    {
     "name": "stdout",
     "output_type": "stream",
     "text": [
      "De optimale K-waarde bij meervoudige regressie: 9\n"
     ]
    }
   ],
   "source": [
    "trainingX = xsample(20,0,1)\n",
    "trainingY = ysample(trainingX,f)\n",
    "\n",
    "validatieX = xsample(1000,0,1)\n",
    "validatieY = ysample(validatieX,f)\n",
    "\n",
    "kOptEnkv = berekenKOpt(trainingX,trainingY,validatieX,validatieY,True)\n",
    "print(\"De optimale K-waarde bij meervoudige regressie: \" + str(kOptEnkv))"
   ]
  },
  {
   "cell_type": "markdown",
   "metadata": {},
   "source": [
    "#### Meervoudige regressie"
   ]
  },
  {
   "cell_type": "markdown",
   "metadata": {},
   "source": [
    "Hierbij is de laatste parameter `enkelvoudig` gelijk aan `False`."
   ]
  },
  {
   "cell_type": "code",
   "execution_count": 10,
   "metadata": {},
   "outputs": [
    {
     "name": "stdout",
     "output_type": "stream",
     "text": [
      "De optimale K-waarde bij meervoudige regressie: 7\n"
     ]
    }
   ],
   "source": [
    "trainingX1 = xsample(20,0,1)\n",
    "trainingX2 = xsample(20,0,1)\n",
    "\n",
    "validatieX1 = xsample(1000,0,1)\n",
    "validatieX2 = xsample(1000,0,1)\n",
    "\n",
    "trainingXMatrix = np.column_stack((trainingX1, trainingX2))\n",
    "validatieXMatrix = np.column_stack((validatieX1, validatieX2))\n",
    "\n",
    "trainingY = ysample(trainingX1+trainingX2,f)\n",
    "validatieY = ysample(validatieX1+validatieX2,f)\n",
    "\n",
    "kOptMeerv = berekenKOpt(trainingXMatrix,trainingY,validatieXMatrix,validatieY,False)\n",
    "print(\"De optimale K-waarde bij meervoudige regressie: \" + str(kOptMeerv))"
   ]
  },
  {
   "cell_type": "markdown",
   "metadata": {},
   "source": [
    "### De procedure `berekenPOpt(trainingX,trainingY,validatieX,validatieY)`"
   ]
  },
  {
   "cell_type": "markdown",
   "metadata": {},
   "source": [
    "Deze functie berekent de optimale p-waarde voor polynomiale regressie."
   ]
  },
  {
   "cell_type": "code",
   "execution_count": 21,
   "metadata": {},
   "outputs": [
    {
     "name": "stdout",
     "output_type": "stream",
     "text": [
      "2 is de optimale graad voor polynomiale regressie.\n"
     ]
    }
   ],
   "source": [
    "def f(x):\n",
    "    return 10**x\n",
    "\n",
    "trainingX = xsample(20,0,1)\n",
    "trainingY = ysample(trainingX,f)\n",
    "\n",
    "validatieX = xsample(1000,0,1)\n",
    "validatieY = ysample(validatieX,f)\n",
    "\n",
    "pOpt = berekenPOpt(trainingX,trainingY,validatieX,validatieY)\n",
    "\n",
    "print(f\"{pOpt} is de optimale graad voor polynomiale regressie.\")"
   ]
  },
  {
   "cell_type": "markdown",
   "metadata": {},
   "source": [
    "### De procedure `coefficienten(beta,xx)`"
   ]
  },
  {
   "cell_type": "code",
   "execution_count": 23,
   "metadata": {},
   "outputs": [
    {
     "data": {
      "image/png": "[encoded data removed]",
      "text/plain": [
       "<Figure size 640x480 with 1 Axes>"
      ]
     },
     "metadata": {},
     "output_type": "display_data"
    }
   ],
   "source": [
    "# Populatiefunctie\n",
    "def f(x):\n",
    "    return 10**x\n",
    "\n",
    "# Nodige gegevens\n",
    "trainingX = xsample(20,0,1)\n",
    "trainingY = ysample(trainingX,f)\n",
    "X = np.column_stack([trainingX**i for i in range(pOpt+1)])\n",
    "beta = mls(trainingY,X)\n",
    "xx = np.linspace(0,1,1000)\n",
    "\n",
    "# we geven de vector beta mee, alsook de x-waarden waarvoor we de coeffecienten willen berekenen\n",
    "coef = coefficienten(beta,xx)\n",
    "\n",
    "# De voorspelling\n",
    "polynomVoorspelling = np.dot(coef, beta)\n",
    "\n",
    "plt.figure()\n",
    "plt.plot(xx, f(xx), color='grey', label=\"Populatiefunctie\")\n",
    "plt.scatter(trainingX, trainingY, c='k', s=15, label=\"Gegenereerde datapunten met error-term\", zorder=3)\n",
    "plt.plot(xx,polynomVoorspelling,'r-', lw=1 ,label=\"Polynomiale schattingsfunctie\")\n",
    "plt.legend()\n",
    "plt.show()"
   ]
  }
 ],
 "metadata": {
  "kernelspec": {
   "display_name": "base",
   "language": "python",
   "name": "python3"
  },
  "language_info": {
   "codemirror_mode": {
    "name": "ipython",
    "version": 3
   },
   "file_extension": ".py",
   "mimetype": "text/x-python",
   "name": "python",
   "nbconvert_exporter": "python",
   "pygments_lexer": "ipython3",
   "version": "3.11.4"
  }
 },
 "nbformat": 4,
 "nbformat_minor": 2
}
